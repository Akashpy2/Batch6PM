{
 "cells": [
  {
   "cell_type": "code",
   "execution_count": 5,
   "id": "dca0e6d3",
   "metadata": {},
   "outputs": [],
   "source": [
    "a=5\n",
    "if a==3:\n",
    "    print(\"True\")"
   ]
  },
  {
   "cell_type": "code",
   "execution_count": 6,
   "id": "139641c3",
   "metadata": {},
   "outputs": [
    {
     "name": "stdout",
     "output_type": "stream",
     "text": [
      "True\n"
     ]
    }
   ],
   "source": [
    "a=5\n",
    "if a==5:\n",
    "    print(\"True\")"
   ]
  },
  {
   "cell_type": "code",
   "execution_count": 7,
   "id": "db4a9b7c",
   "metadata": {},
   "outputs": [
    {
     "name": "stdout",
     "output_type": "stream",
     "text": [
      "False\n"
     ]
    }
   ],
   "source": [
    "a=5\n",
    "if a==3:\n",
    "    print(\"True\")\n",
    "else:\n",
    "    print(\"False\")"
   ]
  },
  {
   "cell_type": "code",
   "execution_count": 8,
   "id": "598370e7",
   "metadata": {},
   "outputs": [
    {
     "name": "stdout",
     "output_type": "stream",
     "text": [
      "The output value of b\n"
     ]
    }
   ],
   "source": [
    "a=5\n",
    "b=6\n",
    "c=7\n",
    "if a==3:\n",
    "    print(\"The output value of a\")\n",
    "elif b==6:\n",
    "    print(\"The output value of b\")\n",
    "else:\n",
    "    print(\"The output value of c\")    "
   ]
  },
  {
   "cell_type": "code",
   "execution_count": 9,
   "id": "adb1719c",
   "metadata": {},
   "outputs": [
    {
     "name": "stdout",
     "output_type": "stream",
     "text": [
      "The output value of d\n"
     ]
    }
   ],
   "source": [
    "a=5\n",
    "b=6\n",
    "c=7\n",
    "if a==3:\n",
    "    print(\"The output value of a\")\n",
    "elif b==5:\n",
    "    print(\"The output value of b\")\n",
    "elif b==3:\n",
    "    print(\"The output value of c\")\n",
    "else:\n",
    "    print(\"The output value of d\")    "
   ]
  },
  {
   "cell_type": "code",
   "execution_count": 11,
   "id": "a9774323",
   "metadata": {},
   "outputs": [
    {
     "name": "stdout",
     "output_type": "stream",
     "text": [
      "The output value of a\n",
      "The output value of c\n"
     ]
    }
   ],
   "source": [
    "# Netsed if condions.\n",
    "a=5\n",
    "b=6\n",
    "c=7\n",
    "if a==5:\n",
    "    print(\"The output value of a\")\n",
    "    if b==5:\n",
    "        print(\"The output value of b\")\n",
    "    else:\n",
    "        print(\"The output value of c\")\n",
    "else:\n",
    "    print(\"The output value of d\")    "
   ]
  },
  {
   "cell_type": "code",
   "execution_count": 13,
   "id": "45a54a90",
   "metadata": {},
   "outputs": [
    {
     "name": "stdout",
     "output_type": "stream",
     "text": [
      "give the box to him\n"
     ]
    }
   ],
   "source": [
    "# Netsed if condions.\n",
    "\n",
    "stclass = 2\n",
    "stname='ram'\n",
    "section = 'Boys'\n",
    "\n",
    "if stclass == 2:\n",
    "    if section =='Boys':\n",
    "        if stname == 'ram':\n",
    "            print('give the box to him')\n",
    "        else:\n",
    "            print('no ram in class 2 and section boy')\n",
    "            \n",
    "    else:\n",
    "        print('in class 2 no boys section')\n",
    "else:\n",
    "    print('no class 2 in school')   "
   ]
  },
  {
   "cell_type": "code",
   "execution_count": null,
   "id": "1860003b",
   "metadata": {},
   "outputs": [],
   "source": []
  }
 ],
 "metadata": {
  "kernelspec": {
   "display_name": "Python 3 (ipykernel)",
   "language": "python",
   "name": "python3"
  },
  "language_info": {
   "codemirror_mode": {
    "name": "ipython",
    "version": 3
   },
   "file_extension": ".py",
   "mimetype": "text/x-python",
   "name": "python",
   "nbconvert_exporter": "python",
   "pygments_lexer": "ipython3",
   "version": "3.9.13"
  }
 },
 "nbformat": 4,
 "nbformat_minor": 5
}
