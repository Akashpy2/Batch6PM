{
 "cells": [
  {
   "cell_type": "markdown",
   "id": "abc8fc32",
   "metadata": {},
   "source": [
    "# Random Functions"
   ]
  },
  {
   "cell_type": "raw",
   "id": "9109ce77",
   "metadata": {},
   "source": [
    "Random - Random value in between o> and >1 and gives only floating value\n",
    "Shuffle - Reorganize the order of the list items\n",
    "choice - selects a random item from a specified sequence, and the sequence could be list, tuple,range\n",
    "seed - To initialize the random number generator\n",
    "randint - Ranom value in the given range with integer value\n",
    "uniform - Returns a random floating number between the two specified numbers"
   ]
  },
  {
   "cell_type": "code",
   "execution_count": 1,
   "id": "9cef4f63",
   "metadata": {},
   "outputs": [],
   "source": [
    "import random as rd"
   ]
  },
  {
   "cell_type": "code",
   "execution_count": 34,
   "id": "e525cfdd",
   "metadata": {},
   "outputs": [
    {
     "name": "stdout",
     "output_type": "stream",
     "text": [
      "0.13436424411240122\n"
     ]
    }
   ],
   "source": [
    "r=rd.random()\n",
    "print(r)"
   ]
  },
  {
   "cell_type": "code",
   "execution_count": 28,
   "id": "efd614da",
   "metadata": {},
   "outputs": [
    {
     "name": "stdout",
     "output_type": "stream",
     "text": [
      "0.6638761707936909\n"
     ]
    }
   ],
   "source": [
    "r=rd.random()\n",
    "print(r)"
   ]
  },
  {
   "cell_type": "code",
   "execution_count": 14,
   "id": "1fb8d102",
   "metadata": {},
   "outputs": [
    {
     "name": "stdout",
     "output_type": "stream",
     "text": [
      "5\n"
     ]
    }
   ],
   "source": [
    "r=rd.randint(1,10)\n",
    "print(r)"
   ]
  },
  {
   "cell_type": "code",
   "execution_count": 46,
   "id": "fce23e48",
   "metadata": {},
   "outputs": [
    {
     "name": "stdout",
     "output_type": "stream",
     "text": [
      "[1, 3, 6, 5, 2]\n"
     ]
    }
   ],
   "source": [
    "l=[1,3,6,2,5]\n",
    "rd.shuffle(l)\n",
    "print(l)"
   ]
  },
  {
   "cell_type": "code",
   "execution_count": 52,
   "id": "755acffd",
   "metadata": {},
   "outputs": [
    {
     "name": "stdout",
     "output_type": "stream",
     "text": [
      "['apple', 'cherry', 'banana']\n"
     ]
    },
    {
     "name": "stderr",
     "output_type": "stream",
     "text": [
      "C:\\Users\\DELL\\AppData\\Local\\Temp\\ipykernel_16532\\658242459.py:5: DeprecationWarning: The *random* parameter to shuffle() has been deprecated\n",
      "since Python 3.9 and will be removed in a subsequent version.\n",
      "  rd.shuffle(mylist, myfunction)\n"
     ]
    }
   ],
   "source": [
    "def myfunction():\n",
    "    return 0.5   #The name of a function that returns a number between 0.0 and 1.0.\n",
    "#If not specified, the function random() will be used\n",
    "\n",
    "mylist = [\"apple\", \"banana\", \"cherry\"]\n",
    "rd.shuffle(mylist, myfunction)\n",
    "\n",
    "print(mylist)"
   ]
  },
  {
   "cell_type": "code",
   "execution_count": 24,
   "id": "806dd8ba",
   "metadata": {},
   "outputs": [
    {
     "name": "stdout",
     "output_type": "stream",
     "text": [
      "2\n"
     ]
    }
   ],
   "source": [
    "l=[1,3,6,2,5]\n",
    "r=rd.choice(l)\n",
    "print(r)"
   ]
  },
  {
   "cell_type": "code",
   "execution_count": 38,
   "id": "63e0aff9",
   "metadata": {},
   "outputs": [
    {
     "name": "stdout",
     "output_type": "stream",
     "text": [
      "0.9560342718892494\n"
     ]
    }
   ],
   "source": [
    "rd.seed(2)\n",
    "r=rd.random()\n",
    "print(r)"
   ]
  },
  {
   "cell_type": "code",
   "execution_count": 40,
   "id": "66890861",
   "metadata": {},
   "outputs": [
    {
     "name": "stdout",
     "output_type": "stream",
     "text": [
      "10.478274870593493\n"
     ]
    }
   ],
   "source": [
    "r=rd.uniform(1,11)\n",
    "print(r)"
   ]
  },
  {
   "cell_type": "code",
   "execution_count": null,
   "id": "17d6270c",
   "metadata": {},
   "outputs": [],
   "source": []
  }
 ],
 "metadata": {
  "kernelspec": {
   "display_name": "Python 3 (ipykernel)",
   "language": "python",
   "name": "python3"
  },
  "language_info": {
   "codemirror_mode": {
    "name": "ipython",
    "version": 3
   },
   "file_extension": ".py",
   "mimetype": "text/x-python",
   "name": "python",
   "nbconvert_exporter": "python",
   "pygments_lexer": "ipython3",
   "version": "3.9.13"
  }
 },
 "nbformat": 4,
 "nbformat_minor": 5
}
