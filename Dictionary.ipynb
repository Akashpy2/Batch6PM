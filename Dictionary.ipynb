{
 "cells": [
  {
   "cell_type": "raw",
   "id": "cb9eefad",
   "metadata": {},
   "source": [
    "Dictionary - {}\n",
    "Dictionary - mutable \n",
    "Dictionary will have keypairs -{Key:value}\n",
    "\n",
    "Functions in dict\n",
    "get\n",
    "zip\n",
    "fromkeys\n",
    "update"
   ]
  },
  {
   "cell_type": "code",
   "execution_count": 1,
   "id": "0257d2e3",
   "metadata": {},
   "outputs": [
    {
     "data": {
      "text/plain": [
       "dict"
      ]
     },
     "execution_count": 1,
     "metadata": {},
     "output_type": "execute_result"
    }
   ],
   "source": [
    "d={}\n",
    "type(d)"
   ]
  },
  {
   "cell_type": "code",
   "execution_count": 2,
   "id": "4e52ae00",
   "metadata": {},
   "outputs": [
    {
     "name": "stdout",
     "output_type": "stream",
     "text": [
      "{'name': 'kumar', 'age': 34}\n"
     ]
    }
   ],
   "source": [
    "d={'name':'kumar','age':34}\n",
    "print(d)"
   ]
  },
  {
   "cell_type": "code",
   "execution_count": 3,
   "id": "814739f7",
   "metadata": {},
   "outputs": [
    {
     "name": "stdout",
     "output_type": "stream",
     "text": [
      "{'name': ['kumar', 'rahul'], 'age': 34}\n"
     ]
    }
   ],
   "source": [
    "d={'name':['kumar','rahul'],'age':34}\n",
    "print(d)"
   ]
  },
  {
   "cell_type": "code",
   "execution_count": 4,
   "id": "af338d9e",
   "metadata": {},
   "outputs": [
    {
     "name": "stdout",
     "output_type": "stream",
     "text": [
      "{'name': ('kumar', 'rahul'), 'age': 34}\n"
     ]
    }
   ],
   "source": [
    "d={'name':('kumar','rahul'),'age':34}\n",
    "print(d)"
   ]
  },
  {
   "cell_type": "code",
   "execution_count": 6,
   "id": "20fb3ae1",
   "metadata": {},
   "outputs": [
    {
     "name": "stdout",
     "output_type": "stream",
     "text": [
      "('kumar', 'rahul')\n"
     ]
    }
   ],
   "source": [
    "r=d['name']\n",
    "print(r)"
   ]
  },
  {
   "cell_type": "code",
   "execution_count": 8,
   "id": "c0b2feea",
   "metadata": {},
   "outputs": [
    {
     "name": "stdout",
     "output_type": "stream",
     "text": [
      "45\n",
      "{'name': ('kumar', 'rahul'), 'age': 45}\n"
     ]
    }
   ],
   "source": [
    "r=d['age']=45\n",
    "print(r)\n",
    "print(d)"
   ]
  },
  {
   "cell_type": "code",
   "execution_count": 9,
   "id": "158c8aa6",
   "metadata": {},
   "outputs": [
    {
     "name": "stdout",
     "output_type": "stream",
     "text": [
      "{'name': ('kumar', 'rahul'), 'age': 45, 'rank': 5}\n"
     ]
    }
   ],
   "source": [
    "r=d['rank']=5\n",
    "print(d)"
   ]
  },
  {
   "cell_type": "code",
   "execution_count": 10,
   "id": "34327684",
   "metadata": {},
   "outputs": [
    {
     "name": "stdout",
     "output_type": "stream",
     "text": [
      "('kumar', 'rahul')\n"
     ]
    }
   ],
   "source": [
    "r=d.get('name')\n",
    "print(r)"
   ]
  },
  {
   "cell_type": "code",
   "execution_count": 12,
   "id": "481f1b57",
   "metadata": {},
   "outputs": [
    {
     "name": "stdout",
     "output_type": "stream",
     "text": [
      "{'kumar': 'apple', 'rahul': 'banana'}\n"
     ]
    }
   ],
   "source": [
    "a=['kumar','rahul']\n",
    "b=['apple','banana']\n",
    "r=dict(zip(a,b))\n",
    "print(r)"
   ]
  },
  {
   "cell_type": "code",
   "execution_count": 13,
   "id": "87e248e3",
   "metadata": {},
   "outputs": [
    {
     "name": "stdout",
     "output_type": "stream",
     "text": [
      "[('kumar', 'apple'), ('rahul', 'banana')]\n"
     ]
    }
   ],
   "source": [
    "a=['kumar','rahul']\n",
    "b=['apple','banana']\n",
    "r=list(zip(a,b))\n",
    "print(r)"
   ]
  },
  {
   "cell_type": "code",
   "execution_count": 14,
   "id": "c39e29d5",
   "metadata": {},
   "outputs": [
    {
     "name": "stdout",
     "output_type": "stream",
     "text": [
      "(('kumar', 'apple'), ('rahul', 'banana'))\n"
     ]
    }
   ],
   "source": [
    "a=['kumar','rahul']\n",
    "b=['apple','banana']\n",
    "r=tuple(zip(a,b))\n",
    "print(r)"
   ]
  },
  {
   "cell_type": "code",
   "execution_count": 22,
   "id": "b38443e0",
   "metadata": {},
   "outputs": [
    {
     "name": "stdout",
     "output_type": "stream",
     "text": [
      "{'kumar': ['x'], 'rahul': ['x']}\n",
      "{'rahul': ['x'], 'kumar': ['x']}\n",
      "{'kumar': ['x'], 'rahul': ['x']}\n"
     ]
    }
   ],
   "source": [
    "a=['kumar','rahul']\n",
    "r=dict.fromkeys(a,['x'])\n",
    "print(r)\n",
    "a={'kumar','rahul'}\n",
    "r=dict.fromkeys(a,['x'])\n",
    "print(r)\n",
    "a=('kumar','rahul')\n",
    "r=dict.fromkeys(a,['x'])\n",
    "print(r)"
   ]
  },
  {
   "cell_type": "code",
   "execution_count": 24,
   "id": "1fc83467",
   "metadata": {},
   "outputs": [
    {
     "data": {
      "text/plain": [
       "{'fname': 'kumar', 'lname': 'rahul', 'age': 23}"
      ]
     },
     "execution_count": 24,
     "metadata": {},
     "output_type": "execute_result"
    }
   ],
   "source": [
    "d1={'fname':'kumar','lname':'rahul'}\n",
    "d2={'age':23}\n",
    "d1.update(d2)\n",
    "d1"
   ]
  },
  {
   "cell_type": "code",
   "execution_count": 26,
   "id": "9ba94e96",
   "metadata": {},
   "outputs": [
    {
     "data": {
      "text/plain": [
       "{}"
      ]
     },
     "execution_count": 26,
     "metadata": {},
     "output_type": "execute_result"
    }
   ],
   "source": [
    "d2={'age':23}\n",
    "d2.clear()\n",
    "d2"
   ]
  },
  {
   "cell_type": "code",
   "execution_count": 27,
   "id": "c21cafab",
   "metadata": {},
   "outputs": [
    {
     "ename": "NameError",
     "evalue": "name 'd2' is not defined",
     "output_type": "error",
     "traceback": [
      "\u001b[1;31m---------------------------------------------------------------------------\u001b[0m",
      "\u001b[1;31mNameError\u001b[0m                                 Traceback (most recent call last)",
      "\u001b[1;32m~\\AppData\\Local\\Temp\\ipykernel_4480\\3412369483.py\u001b[0m in \u001b[0;36m<module>\u001b[1;34m\u001b[0m\n\u001b[0;32m      1\u001b[0m \u001b[1;32mdel\u001b[0m \u001b[0md2\u001b[0m\u001b[1;33m\u001b[0m\u001b[1;33m\u001b[0m\u001b[0m\n\u001b[1;32m----> 2\u001b[1;33m \u001b[0md2\u001b[0m\u001b[1;33m\u001b[0m\u001b[1;33m\u001b[0m\u001b[0m\n\u001b[0m",
      "\u001b[1;31mNameError\u001b[0m: name 'd2' is not defined"
     ]
    }
   ],
   "source": [
    "del d2\n",
    "d2"
   ]
  },
  {
   "cell_type": "code",
   "execution_count": null,
   "id": "c91418d8",
   "metadata": {},
   "outputs": [],
   "source": []
  }
 ],
 "metadata": {
  "kernelspec": {
   "display_name": "Python 3 (ipykernel)",
   "language": "python",
   "name": "python3"
  },
  "language_info": {
   "codemirror_mode": {
    "name": "ipython",
    "version": 3
   },
   "file_extension": ".py",
   "mimetype": "text/x-python",
   "name": "python",
   "nbconvert_exporter": "python",
   "pygments_lexer": "ipython3",
   "version": "3.9.13"
  }
 },
 "nbformat": 4,
 "nbformat_minor": 5
}
