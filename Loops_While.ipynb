{
 "cells": [
  {
   "cell_type": "raw",
   "id": "c68bab3e",
   "metadata": {},
   "source": [
    "The while Loop\n",
    "---------------------\n",
    "With the while loop we can execute a set of statements \n",
    "as long as a condition is true.\n",
    "  \n",
    "#Note: remember to increment i, or else the loop will continue forever."
   ]
  },
  {
   "cell_type": "code",
   "execution_count": 3,
   "id": "7bf50b96",
   "metadata": {},
   "outputs": [
    {
     "name": "stdout",
     "output_type": "stream",
     "text": [
      "0\n",
      "1\n",
      "2\n",
      "3\n",
      "4\n"
     ]
    }
   ],
   "source": [
    "i=0\n",
    "while i<5:\n",
    "    print(i)\n",
    "    i+=1"
   ]
  },
  {
   "cell_type": "code",
   "execution_count": 5,
   "id": "e235e879",
   "metadata": {},
   "outputs": [
    {
     "name": "stdout",
     "output_type": "stream",
     "text": [
      "apple\n",
      "banana\n",
      "grapes\n"
     ]
    }
   ],
   "source": [
    "fruits=['apple','banana','grapes']\n",
    "i=0\n",
    "while i<len(fruits):\n",
    "    print(fruits[i])\n",
    "    i+=1"
   ]
  },
  {
   "cell_type": "code",
   "execution_count": 7,
   "id": "26a0c285",
   "metadata": {},
   "outputs": [
    {
     "name": "stdout",
     "output_type": "stream",
     "text": [
      "Enter the studentnamer\n",
      "Enter the student marks4\n",
      "Studentname r StudentMarks 4\n",
      "Enter the studentnameb\n",
      "Enter the student marks6\n",
      "Studentname b StudentMarks 6\n",
      "Enter the studentnamet\n",
      "Enter the student marks8\n",
      "Studentname t StudentMarks 8\n"
     ]
    }
   ],
   "source": [
    "i=0\n",
    "while i<3:\n",
    "    sname=input(\"Enter the studentname\")\n",
    "    smarks=int(input(\"Enter the student marks\"))\n",
    "    print(\"Studentname\",sname,\"StudentMarks\",smarks)\n",
    "    i+=1"
   ]
  },
  {
   "cell_type": "code",
   "execution_count": 12,
   "id": "73dfae85",
   "metadata": {},
   "outputs": [
    {
     "name": "stdout",
     "output_type": "stream",
     "text": [
      "Enter the studentnamea\n",
      "Enter the student marks4\n",
      "Studentname a StudentMarks 4\n",
      "continue till i give y else stopy\n",
      "Enter the studentnameb\n",
      "Enter the student marks6\n",
      "Studentname b StudentMarks 6\n",
      "continue till i give y else stopp\n"
     ]
    }
   ],
   "source": [
    "counter='y'\n",
    "while counter=='y':\n",
    "    sname=input(\"Enter the studentname\")\n",
    "    smarks=int(input(\"Enter the student marks\"))\n",
    "    print(\"Studentname\",sname,\"StudentMarks\",smarks)\n",
    "    counter=input(\"continue till i give y else stop\")\n",
    "    "
   ]
  },
  {
   "cell_type": "code",
   "execution_count": 28,
   "id": "e9cd0d62",
   "metadata": {},
   "outputs": [
    {
     "name": "stdout",
     "output_type": "stream",
     "text": [
      "Enter the tickets6\n"
     ]
    }
   ],
   "source": [
    "a=int(input(\"Enter the tickets\"))\n",
    "\n",
    "c=5\n",
    "i=1\n",
    "while i<5:\n",
    "    print(i)\n",
    "    if c<=a:\n",
    "        print(\"Soldout\")\n",
    "        break\n",
    "        i+=1\n",
    "    #print(i)        "
   ]
  },
  {
   "cell_type": "code",
   "execution_count": 29,
   "id": "896238e2",
   "metadata": {},
   "outputs": [
    {
     "name": "stdout",
     "output_type": "stream",
     "text": [
      "1\n",
      "2\n",
      "3\n",
      "5\n"
     ]
    }
   ],
   "source": [
    "i=0\n",
    "while i<5:\n",
    "    i+=1\n",
    "    if i==4:\n",
    "        continue\n",
    "    print(i)"
   ]
  },
  {
   "cell_type": "code",
   "execution_count": null,
   "id": "93bac717",
   "metadata": {},
   "outputs": [],
   "source": []
  }
 ],
 "metadata": {
  "kernelspec": {
   "display_name": "Python 3 (ipykernel)",
   "language": "python",
   "name": "python3"
  },
  "language_info": {
   "codemirror_mode": {
    "name": "ipython",
    "version": 3
   },
   "file_extension": ".py",
   "mimetype": "text/x-python",
   "name": "python",
   "nbconvert_exporter": "python",
   "pygments_lexer": "ipython3",
   "version": "3.9.13"
  }
 },
 "nbformat": 4,
 "nbformat_minor": 5
}
