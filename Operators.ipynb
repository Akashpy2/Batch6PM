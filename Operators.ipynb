{
 "cells": [
  {
   "cell_type": "raw",
   "id": "d1c76327",
   "metadata": {},
   "source": [
    "Operators:\n",
    "Operators are used to perform operations on variables and values.\n",
    "\n",
    "Python divides the operators in the following groups:\n",
    "Arithmetic operators\n",
    "Assignment operators\n",
    "Comparison operators\n",
    "Logical operators\n",
    "Identity operators\n",
    "Membership operators\n",
    "Bitwise operators"
   ]
  },
  {
   "cell_type": "code",
   "execution_count": null,
   "id": "4656141e",
   "metadata": {},
   "outputs": [],
   "source": [
    "################Arthimetic operators###############  \n",
    "a = 21\n",
    "b = 10\n",
    "\n",
    "c = a + b\n",
    "print (\"Value of c is \", c)\n",
    "\n",
    "c = a - b\n",
    "print (\"Value of c is \", c )\n",
    "\n",
    "c = a * b\n",
    "print (\"Value of c is \", c) \n",
    "\n",
    "c = a / b\n",
    "print (\"Value of c is \", c)\n",
    "print(c)\n",
    "\n",
    "c = a % b\n",
    "print (\"Value of c is \", c)\n",
    "print(c)\n",
    "\n",
    "a = 2\n",
    "b = 3\n",
    "c = a**b \n",
    "print (\"Value of c is \", c)\n",
    "print(c)\n",
    "\n",
    "a = 10\n",
    "b = 5\n",
    "c = a//b \n",
    "print(c)\n",
    "print (\"Value of c is \", c)"
   ]
  },
  {
   "cell_type": "code",
   "execution_count": null,
   "id": "968151e2",
   "metadata": {},
   "outputs": [],
   "source": [
    "#############Assignment operator#####################\n",
    "a=1\n",
    "b=c=s=g=2\n",
    "d,e,f = 3,4,'xyz'\n",
    "print(e)"
   ]
  },
  {
   "cell_type": "code",
   "execution_count": null,
   "id": "c17f6bb1",
   "metadata": {},
   "outputs": [],
   "source": [
    "##########Unary Operator###############\n",
    "a=5\n",
    "a\n",
    "-a\n",
    "a=-a\n",
    "a"
   ]
  },
  {
   "cell_type": "code",
   "execution_count": 9,
   "id": "be460fbe",
   "metadata": {},
   "outputs": [
    {
     "data": {
      "text/plain": [
       "True"
      ]
     },
     "execution_count": 9,
     "metadata": {},
     "output_type": "execute_result"
    }
   ],
   "source": [
    "##########Comparsion operator or Relational###############\n",
    "x = 12\n",
    "y = 14\n",
    "\n",
    "x>y\n",
    "x==y    # = assignment  , == comparision\n",
    "x<y\n",
    "x<=y\n",
    "x>=y\n",
    "x!=y"
   ]
  },
  {
   "cell_type": "code",
   "execution_count": 15,
   "id": "b08274b2",
   "metadata": {},
   "outputs": [
    {
     "data": {
      "text/plain": [
       "True"
      ]
     },
     "execution_count": 15,
     "metadata": {},
     "output_type": "execute_result"
    }
   ],
   "source": [
    "###############logical operators##################\n",
    "#AND, OR, NOT\n",
    "\n",
    "x = 5\n",
    "y = 10\n",
    "\n",
    "#x>y and x==y\n",
    "#x<y and x!=y\n",
    "x<y or x==y\n"
   ]
  },
  {
   "cell_type": "code",
   "execution_count": null,
   "id": "c87fa070",
   "metadata": {},
   "outputs": [],
   "source": [
    "##################Special operators###############\n",
    "#identity\n",
    "x1 = 5\n",
    "y1 = 5\n",
    "x2 = 'Hello'\n",
    "y2 = 'Hello'\n",
    "x3 = [1]\n",
    "y3 = [1]\n",
    "x3 = [1,2,3]\n",
    "y3 = [1,2,3]\n",
    "\n",
    "# Output: False\n",
    "print(x1 is not y1)  \n",
    "\n",
    "# Output: True\n",
    "print(x2 is y2) \n",
    "\n",
    "# Output: False\n",
    "print(x3 is y3)"
   ]
  },
  {
   "cell_type": "code",
   "execution_count": null,
   "id": "e2ad7549",
   "metadata": {},
   "outputs": [],
   "source": [
    "#Membership\n",
    "\n",
    "x = 'Hello world'\n",
    "y = {1:'a',2:'b'}\n",
    "\n",
    "# Output: True\n",
    "print('H' in x)\n",
    "\n",
    "# Output: True\n",
    "print('hello' not in x) #small letter H\n",
    "\n",
    "# Output: True\n",
    "print(1 in y)\n",
    "\n",
    "# Output: False\n",
    "print('a' in y)"
   ]
  },
  {
   "cell_type": "code",
   "execution_count": null,
   "id": "5bada3c1",
   "metadata": {},
   "outputs": [],
   "source": []
  }
 ],
 "metadata": {
  "kernelspec": {
   "display_name": "Python 3 (ipykernel)",
   "language": "python",
   "name": "python3"
  },
  "language_info": {
   "codemirror_mode": {
    "name": "ipython",
    "version": 3
   },
   "file_extension": ".py",
   "mimetype": "text/x-python",
   "name": "python",
   "nbconvert_exporter": "python",
   "pygments_lexer": "ipython3",
   "version": "3.9.13"
  }
 },
 "nbformat": 4,
 "nbformat_minor": 5
}
