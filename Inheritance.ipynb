{
 "cells": [
  {
   "cell_type": "raw",
   "id": "7ba437ef",
   "metadata": {},
   "source": [
    "Inheritance is the capability of one class to derive or inherit the properties from another class. The benefits of inheritance are:\n",
    "\n",
    "--It represents real-world relationships well. --It provides reusability of a code. We don’t have to write the same code again and again. Also, it allows us to add more features to a class without modifying it. --It is transitive in nature, which means that if class B inherits from another class A, then all the subclasses of B would automatically inherit from class A.\n",
    "\n",
    "Single inheritance: When a child class inherits from only one parent class, it is called as single inheritance.\n",
    "\n",
    "Multiple inheritance: When a child class inherits from multiple parent classes, it is called as multiple inheritance.\n",
    "\n",
    "Multilevel inheritance: When we have child and grand child relationship."
   ]
  },
  {
   "cell_type": "code",
   "execution_count": 1,
   "id": "8a1e768a",
   "metadata": {},
   "outputs": [
    {
     "name": "stdout",
     "output_type": "stream",
     "text": [
      "Feature 1 working\n",
      "Feature 2 working\n"
     ]
    }
   ],
   "source": [
    "class A:  \n",
    "     \n",
    "    def feature1(self):  \n",
    "         print(\"Feature 1 working\") \n",
    "         \n",
    "    def feature2(self):  \n",
    "         print(\"Feature 2 working\")    \n",
    "\n",
    "a1=A()\n",
    "\n",
    "a1.feature1()\n",
    "a1.feature2()"
   ]
  },
  {
   "cell_type": "code",
   "execution_count": 2,
   "id": "4e03ab4e",
   "metadata": {},
   "outputs": [
    {
     "name": "stdout",
     "output_type": "stream",
     "text": [
      "Feature 1 working\n",
      "Feature 2 working\n",
      "Feature 3 working\n"
     ]
    }
   ],
   "source": [
    "#Single Inheritance\n",
    "class A:  \n",
    "     \n",
    "    def feature1(self):  \n",
    "         print(\"Feature 1 working\") \n",
    "         \n",
    "    def feature2(self):  \n",
    "         print(\"Feature 2 working\") \n",
    "            \n",
    "class B(A):\n",
    "    def feature3(self):\n",
    "        print(\"Feature 3 working\")\n",
    "\n",
    "a1=A()\n",
    "b1=B()\n",
    "\n",
    "b1.feature1()\n",
    "b1.feature2()\n",
    "b1.feature3()\n"
   ]
  },
  {
   "cell_type": "code",
   "execution_count": 3,
   "id": "229a2457",
   "metadata": {},
   "outputs": [
    {
     "name": "stdout",
     "output_type": "stream",
     "text": [
      "Feature 1 working\n",
      "Feature 2 working\n",
      "Feature 3 working\n",
      "Feature 4 working\n",
      "Feature 5 working\n"
     ]
    }
   ],
   "source": [
    "#################Mutilevel##########################\n",
    "class A:  \n",
    "     \n",
    "    def feature1(self):  \n",
    "         print(\"Feature 1 working\") \n",
    "         \n",
    "    def feature2(self):  \n",
    "         print(\"Feature 2 working\")    \n",
    "         \n",
    "class B(A):    # It is child class or subclass -> \n",
    "              #Class B is inheriting all the features from class A\n",
    "       \n",
    "    def feature3(self):  \n",
    "         print(\"Feature 3 working\") \n",
    "         \n",
    "    def feature4(self):  \n",
    "         print(\"Feature 4 working\")    \n",
    "\n",
    "         \n",
    "class C(B):     \n",
    "              #Class C is inheriting all the features from A and class B\n",
    "       \n",
    "    def feature5(self):  \n",
    "         print(\"Feature 5 working\") \n",
    "                  \n",
    "c1=C()\n",
    "\n",
    "c1.feature1()\n",
    "c1.feature2()\n",
    "c1.feature3()\n",
    "c1.feature4()\n",
    "c1.feature5()"
   ]
  },
  {
   "cell_type": "code",
   "execution_count": 4,
   "id": "8eca10d6",
   "metadata": {},
   "outputs": [
    {
     "name": "stdout",
     "output_type": "stream",
     "text": [
      "Feature 1 working\n",
      "Feature 3 working\n",
      "Feature 5 working\n"
     ]
    }
   ],
   "source": [
    "class A:  \n",
    "     \n",
    "    def feature1(self):  \n",
    "         print(\"Feature 1 working\") \n",
    "         \n",
    "    def feature2(self):  \n",
    "         print(\"Feature 2 working\")    \n",
    "         \n",
    "class B:    #Class B is not inheriting all the features from class A\n",
    "       \n",
    "    def feature3(self):  \n",
    "         print(\"Feature 3 working\") \n",
    "         \n",
    "    def feature4(self):  \n",
    "         print(\"Feature 4 working\") \n",
    "            \n",
    "class C(A,B):\n",
    "     def feature5(self):  \n",
    "         print(\"Feature 5 working\") \n",
    "        \n",
    "c1=C()\n",
    "\n",
    "c1.feature1()\n",
    "c1.feature3()\n",
    "c1.feature5()"
   ]
  },
  {
   "cell_type": "code",
   "execution_count": 5,
   "id": "2ce4f50d",
   "metadata": {},
   "outputs": [
    {
     "name": "stdout",
     "output_type": "stream",
     "text": [
      "In A Init\n",
      "In B Init\n",
      "Feature 1 working\n",
      "Feature 2 working\n",
      "Feature 1 working\n",
      "Feature 2 working\n"
     ]
    }
   ],
   "source": [
    "class A:  \n",
    "    def __init__(self):  \n",
    "        print(\"In A Init\")  \n",
    "    \n",
    "    def feature1(self):  \n",
    "         print(\"Feature 1 working\") \n",
    "         \n",
    "    def feature2(self):  \n",
    "         print(\"Feature 2 working\")    \n",
    "\n",
    "#class B is subclass       \n",
    "class B(A): \n",
    "    \n",
    "    def __init__(self):  \n",
    "        print(\"In B Init\")  \n",
    "                \n",
    "    def feature3(self):  \n",
    "         print(\"Feature 3 working\") \n",
    "         \n",
    "    def feature4(self):  \n",
    "         print(\"Feature 4 working\")    \n",
    "\n",
    "a1=A()   #A() is a constructor\n",
    "b1=B()\n",
    "\n",
    "a1.feature1()\n",
    "a1.feature2()\n",
    "\n",
    "b1.feature1()\n",
    "b1.feature2()"
   ]
  },
  {
   "cell_type": "code",
   "execution_count": 6,
   "id": "7ec8742a",
   "metadata": {},
   "outputs": [
    {
     "name": "stdout",
     "output_type": "stream",
     "text": [
      "In C Init\n",
      "Feature 1 working\n",
      "Feature 1 working\n"
     ]
    }
   ],
   "source": [
    "class A:  \n",
    "    def __init__(self):  \n",
    "        print(\"In A Init\")  \n",
    "    \n",
    "    def feature1(self):  \n",
    "         print(\"Feature 1 working\") \n",
    "         \n",
    "    def feature2(self):  \n",
    "         print(\"Feature 2 working\")    \n",
    "\n",
    "      \n",
    "class B:  \n",
    "    def __init__(self):  \n",
    "        print(\"In B Init\")  \n",
    "    \n",
    "    def feature3(self):  \n",
    "         print(\"Feature 1 working\") \n",
    "         \n",
    "    def feature4(self):  \n",
    "         print(\"Feature 4 working\")  \n",
    "         \n",
    "class C(A,B):  \n",
    "    def __init__(self):  \n",
    "        print(\"In C Init\")           \n",
    "\n",
    "c1=C() \n",
    "\n",
    "c1.feature1()\n",
    "c1.feature3()"
   ]
  },
  {
   "cell_type": "code",
   "execution_count": 7,
   "id": "cb968ea9",
   "metadata": {},
   "outputs": [
    {
     "name": "stdout",
     "output_type": "stream",
     "text": [
      "In A Init\n",
      "In C Init\n"
     ]
    }
   ],
   "source": [
    "class C(A,B):  \n",
    "    def __init__(self):  \n",
    "        super().__init__()\n",
    "        print(\"In C Init\") \n",
    "        \n",
    "c1=C() "
   ]
  },
  {
   "cell_type": "code",
   "execution_count": 8,
   "id": "f00c13fb",
   "metadata": {},
   "outputs": [
    {
     "name": "stdout",
     "output_type": "stream",
     "text": [
      "In B Init\n",
      "In C Init\n"
     ]
    }
   ],
   "source": [
    "class C(B,A):  \n",
    "    def __init__(self):  \n",
    "        super().__init__()\n",
    "        print(\"In C Init\") \n",
    "        \n",
    "c1=C() "
   ]
  },
  {
   "cell_type": "code",
   "execution_count": 9,
   "id": "8e644261",
   "metadata": {},
   "outputs": [
    {
     "name": "stdout",
     "output_type": "stream",
     "text": [
      "30\n",
      "200\n",
      "0.5\n"
     ]
    }
   ],
   "source": [
    "class Calculation1:  \n",
    "    def Summation(self,a,b):  \n",
    "        return a+b;  \n",
    "class Calculation2:  \n",
    "    def Multiplication(self,a,b):  \n",
    "        return a*b;  \n",
    "class Derived(Calculation1,Calculation2):  \n",
    "    def Divide(self,a,b):  \n",
    "        return a/b;  \n",
    "\n",
    "d = Derived()  \n",
    "\n",
    "print(d.Summation(10,20))  \n",
    "print(d.Multiplication(10,20))  \n",
    "print(d.Divide(10,20))  "
   ]
  },
  {
   "cell_type": "code",
   "execution_count": null,
   "id": "5318bc69",
   "metadata": {},
   "outputs": [],
   "source": []
  }
 ],
 "metadata": {
  "kernelspec": {
   "display_name": "Python 3 (ipykernel)",
   "language": "python",
   "name": "python3"
  },
  "language_info": {
   "codemirror_mode": {
    "name": "ipython",
    "version": 3
   },
   "file_extension": ".py",
   "mimetype": "text/x-python",
   "name": "python",
   "nbconvert_exporter": "python",
   "pygments_lexer": "ipython3",
   "version": "3.9.13"
  }
 },
 "nbformat": 4,
 "nbformat_minor": 5
}
