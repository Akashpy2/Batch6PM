{
 "cells": [
  {
   "cell_type": "raw",
   "id": "a49a6ca1",
   "metadata": {},
   "source": [
    "Python Arrays\n",
    "--------------\n",
    "An array is defined as a collection of items that are stored at contiguous memory locations. It is a container which can hold a fixed number of items, and these items should be of the same type. An array is popular in most programming languages like C/C++, JavaScript, etc.\n",
    "\n",
    "Array is an idea of storing multiple items of the same type together and it makes easier to calculate the position of each element by simply adding an offset to the base value. \n",
    "A combination of the arrays could save a lot of time by reducing the overall size of the code. It is used to store multiple values in single variable. \n",
    "\n",
    "Element - Each item stored in an array is called an element.\n",
    "\n",
    "Index - The location of an element in an array has a numerical index, which is used to identify the position of the element.\n",
    "\n",
    "Array Representation\n",
    "--------------------\n",
    "An array can be declared in various ways and different languages. The important points that should be considered are as follows:\n",
    "\n",
    "Index starts with 0.\n",
    "We can access each element via its index.\n",
    "The length of the array defines the capacity to store the elements.\n",
    "\n",
    "Array operations\n",
    "----------------\n",
    "Some of the basic operations supported by an array are as follows:\n",
    "\n",
    "Traverse - It prints all the elements one by one.\n",
    "Insertion - It adds an element at the given index.\n",
    "Deletion - It deletes an element at the given index.\n",
    "Search - It searches an element using the given index or by the value.\n",
    "Update - It updates an element at the given index.\n",
    "\n",
    "Why to use arrays in Python?\n",
    "A combination of arrays saves a lot of time. The array can reduce the overall size of the code."
   ]
  },
  {
   "cell_type": "code",
   "execution_count": 1,
   "id": "aecd1ae1",
   "metadata": {},
   "outputs": [
    {
     "name": "stdout",
     "output_type": "stream",
     "text": [
      "First element: 2\n",
      "Second element: 4\n",
      "Second last element: 8\n"
     ]
    }
   ],
   "source": [
    "import array as arr  \n",
    "a = arr.array('i', [2, 4, 6, 8])  \n",
    "print(\"First element:\", a[0])  \n",
    "print(\"Second element:\", a[1])  \n",
    "print(\"Second last element:\", a[-1])  "
   ]
  },
  {
   "cell_type": "code",
   "execution_count": 2,
   "id": "2305a140",
   "metadata": {},
   "outputs": [
    {
     "name": "stdout",
     "output_type": "stream",
     "text": [
      "array('i', [0, 2, 3, 5, 7, 10])\n",
      "array('i', [0, 2, 4, 6, 8, 10])\n"
     ]
    }
   ],
   "source": [
    "import array as arr  \n",
    "numbers = arr.array('i', [1, 2, 3, 5, 7, 10])  \n",
    "   \n",
    "# changing first element  \n",
    "numbers[0] = 0     \n",
    "print(numbers)    # Output: array('i', [0, 2, 3, 5, 7, 10])  \n",
    "   \n",
    "# changing 3rd to 5th element  \n",
    "numbers[2:5] = arr.array('i', [4, 6, 8])    \n",
    "print(numbers)    # Output: array('i', [0, 2, 4, 6, 8, 10])  "
   ]
  },
  {
   "cell_type": "code",
   "execution_count": 3,
   "id": "91e5052b",
   "metadata": {},
   "outputs": [
    {
     "name": "stdout",
     "output_type": "stream",
     "text": [
      "array('i', [1, 2, 3, 4])\n"
     ]
    }
   ],
   "source": [
    "import array as arr  \n",
    "number = arr.array('i', [1, 2, 3, 3, 4])  \n",
    "del number[2]                           # removing third element  \n",
    "print(number)                           # Output: array('i', [1, 2, 3, 4])  "
   ]
  },
  {
   "cell_type": "code",
   "execution_count": 4,
   "id": "7903848b",
   "metadata": {},
   "outputs": [
    {
     "name": "stdout",
     "output_type": "stream",
     "text": [
      "Array c =  array('d', [1.1, 2.1, 3.1, 2.6, 7.8, 3.7, 8.6])\n"
     ]
    }
   ],
   "source": [
    "#Concatenate \n",
    "a=arr.array('d',[1.1 , 2.1 ,3.1,2.6,7.8])  \n",
    "b=arr.array('d',[3.7,8.6])  \n",
    "c=arr.array('d')  \n",
    "c=a+b  \n",
    "print(\"Array c = \",c)  "
   ]
  },
  {
   "cell_type": "code",
   "execution_count": 6,
   "id": "511c23cf",
   "metadata": {},
   "outputs": [
    {
     "data": {
      "text/plain": [
       "4"
      ]
     },
     "execution_count": 6,
     "metadata": {},
     "output_type": "execute_result"
    }
   ],
   "source": [
    "array=[2, 4, 6, 8]\n",
    "len(array)  "
   ]
  },
  {
   "cell_type": "code",
   "execution_count": null,
   "id": "bf55f3a4",
   "metadata": {},
   "outputs": [],
   "source": []
  }
 ],
 "metadata": {
  "kernelspec": {
   "display_name": "Python 3 (ipykernel)",
   "language": "python",
   "name": "python3"
  },
  "language_info": {
   "codemirror_mode": {
    "name": "ipython",
    "version": 3
   },
   "file_extension": ".py",
   "mimetype": "text/x-python",
   "name": "python",
   "nbconvert_exporter": "python",
   "pygments_lexer": "ipython3",
   "version": "3.9.13"
  }
 },
 "nbformat": 4,
 "nbformat_minor": 5
}
