{
 "cells": [
  {
   "cell_type": "markdown",
   "id": "d8aee3b8",
   "metadata": {},
   "source": [
    "# List Comprehension"
   ]
  },
  {
   "cell_type": "raw",
   "id": "9e346b68",
   "metadata": {},
   "source": [
    "Comprehensions provide us with a short and concise way to construct new sequences \n",
    "(such as lists, set, dictionary etc.) \n",
    "4 types of comprehensions:\n",
    "**************************\n",
    "List Comprehensions\n",
    "Dictionary Comprehensions\n",
    "Set Comprehensions\n",
    "Generator Comprehensions\n",
    "\n",
    "[x for item in iterable]\n",
    "[x for item in iterable if conditional]\n",
    "[x for item in iterable if conditional else]"
   ]
  },
  {
   "cell_type": "code",
   "execution_count": 3,
   "id": "3858346a",
   "metadata": {},
   "outputs": [
    {
     "name": "stdout",
     "output_type": "stream",
     "text": [
      "0\n",
      "1\n",
      "4\n",
      "9\n",
      "16\n",
      "25\n",
      "36\n",
      "49\n",
      "64\n",
      "81\n"
     ]
    }
   ],
   "source": [
    "for i in range(10):\n",
    "    print(i**2)"
   ]
  },
  {
   "cell_type": "code",
   "execution_count": 6,
   "id": "db44e3b6",
   "metadata": {},
   "outputs": [
    {
     "name": "stdout",
     "output_type": "stream",
     "text": [
      "[0, 1, 4, 9, 16, 25, 36, 49, 64, 81]\n"
     ]
    }
   ],
   "source": [
    "r=[i**2 for i in range(10)]\n",
    "print(r)"
   ]
  },
  {
   "cell_type": "code",
   "execution_count": 7,
   "id": "4a894bc4",
   "metadata": {},
   "outputs": [
    {
     "name": "stdout",
     "output_type": "stream",
     "text": [
      "0\n",
      "2\n",
      "4\n",
      "6\n",
      "8\n"
     ]
    }
   ],
   "source": [
    "#l=[1,2,3,4,5,6]\n",
    "for i in range(10):\n",
    "    if i%2==0:\n",
    "        print(i)"
   ]
  },
  {
   "cell_type": "code",
   "execution_count": 8,
   "id": "038144a6",
   "metadata": {},
   "outputs": [
    {
     "name": "stdout",
     "output_type": "stream",
     "text": [
      "[0, 2, 4, 6, 8]\n"
     ]
    }
   ],
   "source": [
    "r=[i for i in range(10) if i%2==0]\n",
    "print(r)"
   ]
  },
  {
   "cell_type": "code",
   "execution_count": 36,
   "id": "5b8298ca",
   "metadata": {},
   "outputs": [
    {
     "name": "stdout",
     "output_type": "stream",
     "text": [
      "[4, 16, 36]\n"
     ]
    }
   ],
   "source": [
    "l=[1,2,3,4,5,6]\n",
    "new=[]\n",
    "for i in l:\n",
    "    if i%2==0:\n",
    "        new.append(i**2)\n",
    "print(new)"
   ]
  },
  {
   "cell_type": "code",
   "execution_count": 21,
   "id": "15bf2f94",
   "metadata": {},
   "outputs": [
    {
     "name": "stdout",
     "output_type": "stream",
     "text": [
      "[4, 16, 36]\n"
     ]
    }
   ],
   "source": [
    "l=[1,2,3,4,5,6]\n",
    "r=[i**2 for i in l if i%2==0]\n",
    "print(r)"
   ]
  },
  {
   "cell_type": "code",
   "execution_count": 28,
   "id": "5ddcb750",
   "metadata": {},
   "outputs": [
    {
     "name": "stdout",
     "output_type": "stream",
     "text": [
      "{2: 4, 4: 16, 6: 36}\n"
     ]
    }
   ],
   "source": [
    "l=[1,2,3,4,5,6]\n",
    "new={}\n",
    "for i in l:\n",
    "    if i%2==0:\n",
    "        new[i]=(i**2)\n",
    "print(new)"
   ]
  },
  {
   "cell_type": "code",
   "execution_count": 32,
   "id": "97e4e499",
   "metadata": {},
   "outputs": [
    {
     "name": "stdout",
     "output_type": "stream",
     "text": [
      "{2: 4, 4: 16, 6: 36}\n"
     ]
    }
   ],
   "source": [
    "r={i:i**2 for i in l if i%2==0}\n",
    "print(r)"
   ]
  },
  {
   "cell_type": "code",
   "execution_count": 43,
   "id": "0a45ac4c",
   "metadata": {},
   "outputs": [
    {
     "name": "stdout",
     "output_type": "stream",
     "text": [
      "{16, 4, 36}\n"
     ]
    }
   ],
   "source": [
    "l=[1,2,3,4,5,6]\n",
    "new=set()\n",
    "for i in l:\n",
    "    if i%2==0:\n",
    "        new.add(i**2)\n",
    "print(new)"
   ]
  },
  {
   "cell_type": "code",
   "execution_count": 42,
   "id": "2327c889",
   "metadata": {},
   "outputs": [
    {
     "name": "stdout",
     "output_type": "stream",
     "text": [
      "{16, 4, 36}\n"
     ]
    }
   ],
   "source": [
    "l=[1,2,3,4,5,6]\n",
    "new=[]\n",
    "for i in l:\n",
    "    if i%2==0:\n",
    "        new.append(i**2)\n",
    "print(set(new))"
   ]
  },
  {
   "cell_type": "code",
   "execution_count": 35,
   "id": "ce959d4d",
   "metadata": {},
   "outputs": [
    {
     "name": "stdout",
     "output_type": "stream",
     "text": [
      "{16, 4, 36}\n"
     ]
    }
   ],
   "source": [
    "r={i**2 for i in l if i%2==0}\n",
    "print(r)"
   ]
  },
  {
   "cell_type": "code",
   "execution_count": 44,
   "id": "d0f7f7bc",
   "metadata": {},
   "outputs": [
    {
     "name": "stdout",
     "output_type": "stream",
     "text": [
      "[4, 16, 36]\n"
     ]
    }
   ],
   "source": [
    "l=(1,2,3,4,5,6)\n",
    "new=[]\n",
    "for i in l:\n",
    "    if i%2==0:\n",
    "        new.append(i**2)\n",
    "print(new)"
   ]
  },
  {
   "cell_type": "code",
   "execution_count": 46,
   "id": "a49189c5",
   "metadata": {},
   "outputs": [
    {
     "name": "stdout",
     "output_type": "stream",
     "text": [
      "<generator object <genexpr> at 0x0000020085313F20>\n",
      "4\n",
      "16\n",
      "36\n"
     ]
    }
   ],
   "source": [
    "r=(i**2 for i in l if i%2==0)\n",
    "print(r)\n",
    "for i in r:\n",
    "    print(i)"
   ]
  },
  {
   "cell_type": "code",
   "execution_count": 47,
   "id": "5c1075f5",
   "metadata": {},
   "outputs": [
    {
     "name": "stdout",
     "output_type": "stream",
     "text": [
      "['Even', 'odd', 'Even', 'odd', 'Even', 'odd', 'Even', 'odd', 'Even', 'odd']\n"
     ]
    }
   ],
   "source": [
    "l=(1,2,3,4,5,6)\n",
    "r=[\"Even\" if i%2==0 else \"odd\" for i in range(10)]\n",
    "print(r)"
   ]
  },
  {
   "cell_type": "code",
   "execution_count": 49,
   "id": "d32a355d",
   "metadata": {},
   "outputs": [
    {
     "name": "stdout",
     "output_type": "stream",
     "text": [
      "Dictionary using for loop: {'Andhra': 'Amaravati', 'Goa': 'Panaji', 'Telangana': 'Hyderabad'}\n"
     ]
    }
   ],
   "source": [
    "state = ['Andhra', 'Goa', 'Telangana']\n",
    "capital = ['Amaravati', 'Panaji', 'Hyderabad']\n",
    "  \n",
    "out_dict = {}\n",
    "  \n",
    "for (key, value) in zip(state, capital):\n",
    "    out_dict[key] = value\n",
    "  \n",
    "print(\"Dictionary using for loop:\",out_dict)"
   ]
  },
  {
   "cell_type": "code",
   "execution_count": 48,
   "id": "d97affde",
   "metadata": {},
   "outputs": [
    {
     "name": "stdout",
     "output_type": "stream",
     "text": [
      "Using dictionary comprehensions: {'Andhra': 'Amaravati', 'Goa': 'Panaji', 'Telangana': 'Hyderabad'}\n"
     ]
    }
   ],
   "source": [
    "state = ['Andhra', 'Goa', 'Telangana']\n",
    "capital = ['Amaravati', 'Panaji', 'Hyderabad']\n",
    "  \n",
    "dict_comp = {key:value for (key, value) in zip(state, capital)}\n",
    "  \n",
    "print(\"Using dictionary comprehensions:\", dict_comp)"
   ]
  },
  {
   "cell_type": "code",
   "execution_count": 52,
   "id": "047d5ea2",
   "metadata": {},
   "outputs": [
    {
     "name": "stdout",
     "output_type": "stream",
     "text": [
      "[[1, 2, 4, 5], [2, 3, 5, 6]]\n"
     ]
    }
   ],
   "source": [
    "m=[[1,2],[2,3],[4,5],[5,6]]\n",
    "r=[[row[i] for row in m] for i in range(2)]\n",
    "print(r)"
   ]
  },
  {
   "cell_type": "code",
   "execution_count": null,
   "id": "394c3578",
   "metadata": {},
   "outputs": [],
   "source": []
  }
 ],
 "metadata": {
  "kernelspec": {
   "display_name": "Python 3 (ipykernel)",
   "language": "python",
   "name": "python3"
  },
  "language_info": {
   "codemirror_mode": {
    "name": "ipython",
    "version": 3
   },
   "file_extension": ".py",
   "mimetype": "text/x-python",
   "name": "python",
   "nbconvert_exporter": "python",
   "pygments_lexer": "ipython3",
   "version": "3.9.13"
  }
 },
 "nbformat": 4,
 "nbformat_minor": 5
}
