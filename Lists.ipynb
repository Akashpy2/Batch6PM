{
 "cells": [
  {
   "cell_type": "markdown",
   "id": "c92f6c56",
   "metadata": {},
   "source": [
    "# List"
   ]
  },
  {
   "cell_type": "raw",
   "id": "5bed866f",
   "metadata": {},
   "source": [
    "List -[]\n",
    "list can have numbers, characters and both\n",
    "List is mutable - you can change , edit , modify\n",
    "Single dimensinal and multidimentinal lists\n",
    "We can use functions in lists\n",
    "\n",
    "H Y D E R A B A D\n",
    "0 1 2 3 4 5 6 7 8\n",
    "             -2-1\n",
    "             \n",
    "\n",
    "[[1,2],[3,4],[5,6]]\n",
    "  0 1   0 1   0 1\n",
    "   0     1     2\n",
    "        -2    -1  \n",
    " "
   ]
  },
  {
   "cell_type": "code",
   "execution_count": 5,
   "id": "283535b7",
   "metadata": {},
   "outputs": [
    {
     "name": "stdout",
     "output_type": "stream",
     "text": [
      "1\n",
      "[1, 4, 2, 7, 9]\n",
      "9\n",
      "8\n",
      "[1, 4, 2, 8, 9]\n"
     ]
    }
   ],
   "source": [
    "l=[1,4,2,7,9]\n",
    "r=l[0]\n",
    "print(r)\n",
    "r=l[0:]\n",
    "print(r)\n",
    "r=l[-1]\n",
    "print(r)\n",
    "r=l[3]=8\n",
    "print(l)"
   ]
  },
  {
   "cell_type": "code",
   "execution_count": 47,
   "id": "6b1944ca",
   "metadata": {},
   "outputs": [
    {
     "data": {
      "text/plain": [
       "'grapes'"
      ]
     },
     "execution_count": 47,
     "metadata": {},
     "output_type": "execute_result"
    }
   ],
   "source": [
    "l1=['apple','grapes','Mango']\n",
    "l1[1]"
   ]
  },
  {
   "cell_type": "code",
   "execution_count": 48,
   "id": "df367c5a",
   "metadata": {},
   "outputs": [
    {
     "data": {
      "text/plain": [
       "3"
      ]
     },
     "execution_count": 48,
     "metadata": {},
     "output_type": "execute_result"
    }
   ],
   "source": [
    "l1=['apple','grapes','Mango',3,5]\n",
    "l1[3]"
   ]
  },
  {
   "cell_type": "code",
   "execution_count": 10,
   "id": "954d136a",
   "metadata": {},
   "outputs": [
    {
     "name": "stdout",
     "output_type": "stream",
     "text": [
      "[1, 4, 2, 7, 9, 6]\n"
     ]
    }
   ],
   "source": [
    "l=[1,4,2,7,9]\n",
    "l.append(6)\n",
    "print(l)"
   ]
  },
  {
   "cell_type": "code",
   "execution_count": 11,
   "id": "5437e0a6",
   "metadata": {},
   "outputs": [
    {
     "name": "stdout",
     "output_type": "stream",
     "text": [
      "[1, 2, 4, 7, 9]\n"
     ]
    }
   ],
   "source": [
    "l=[1,4,2,7,9]\n",
    "l.sort()\n",
    "print(l)"
   ]
  },
  {
   "cell_type": "code",
   "execution_count": 12,
   "id": "b5dc3730",
   "metadata": {},
   "outputs": [
    {
     "name": "stdout",
     "output_type": "stream",
     "text": [
      "[9, 7, 4, 2, 1]\n"
     ]
    }
   ],
   "source": [
    "l=[1,4,2,7,9]\n",
    "l.sort(reverse=True)\n",
    "print(l)"
   ]
  },
  {
   "cell_type": "code",
   "execution_count": 16,
   "id": "54887733",
   "metadata": {},
   "outputs": [
    {
     "name": "stdout",
     "output_type": "stream",
     "text": [
      "1\n",
      "9\n",
      "5\n"
     ]
    }
   ],
   "source": [
    "l=[1,4,2,7,9]\n",
    "r=min(l)\n",
    "print(r)\n",
    "r=max(l)\n",
    "print(r)\n",
    "r=len(l)\n",
    "print(r)"
   ]
  },
  {
   "cell_type": "code",
   "execution_count": 17,
   "id": "a4a96740",
   "metadata": {},
   "outputs": [
    {
     "name": "stdout",
     "output_type": "stream",
     "text": [
      "23\n"
     ]
    }
   ],
   "source": [
    "l=[1,4,2,7,9]\n",
    "r=sum(l)\n",
    "print(r)"
   ]
  },
  {
   "cell_type": "code",
   "execution_count": 3,
   "id": "f74f4d05",
   "metadata": {},
   "outputs": [
    {
     "name": "stdout",
     "output_type": "stream",
     "text": [
      "[2, 3, 8, 99, 5]\n",
      "[2, 3, 8, 99]\n",
      "[2, 3, 8]\n"
     ]
    }
   ],
   "source": [
    "l=[2,3,8,99,5,9]\n",
    "l.pop()\n",
    "print(l)\n",
    "l.pop()\n",
    "print(l)\n",
    "l.pop()\n",
    "print(l)"
   ]
  },
  {
   "cell_type": "code",
   "execution_count": 37,
   "id": "f745116e",
   "metadata": {},
   "outputs": [
    {
     "data": {
      "text/plain": [
       "1"
      ]
     },
     "execution_count": 37,
     "metadata": {},
     "output_type": "execute_result"
    }
   ],
   "source": [
    "l.count(2)  # return no of 2 are present in the list"
   ]
  },
  {
   "cell_type": "code",
   "execution_count": 38,
   "id": "4be37483",
   "metadata": {},
   "outputs": [
    {
     "data": {
      "text/plain": [
       "0"
      ]
     },
     "execution_count": 38,
     "metadata": {},
     "output_type": "execute_result"
    }
   ],
   "source": [
    "l.index(2)  # return the index of value 2 "
   ]
  },
  {
   "cell_type": "code",
   "execution_count": 45,
   "id": "3926f814",
   "metadata": {},
   "outputs": [
    {
     "name": "stdout",
     "output_type": "stream",
     "text": [
      "[2, 3, 8, 5, 9]\n"
     ]
    }
   ],
   "source": [
    "l=[2,3,8,99,5,9]\n",
    "l.remove(99)\n",
    "print(l)"
   ]
  },
  {
   "cell_type": "code",
   "execution_count": 29,
   "id": "78762880",
   "metadata": {},
   "outputs": [
    {
     "name": "stdout",
     "output_type": "stream",
     "text": [
      "[5, 6]\n",
      "[3, 4]\n",
      "[[1, 2], [3, 4], [5, 6]]\n",
      "2\n",
      "3\n",
      "[[1, 2], [6, 6], [5, 6]]\n",
      "[[1, 2], [3, 6], [5, 6]]\n"
     ]
    }
   ],
   "source": [
    "list=[[1,2],[3,4],[5,6]]\n",
    "r=list[2]\n",
    "print(r)\n",
    "r=list[-2]\n",
    "print(r)\n",
    "r=list[0:]\n",
    "print(r)\n",
    "r=list[0][1]\n",
    "print(r)\n",
    "r=list[1][0]\n",
    "print(r)\n",
    "r=list[1]=[6,6]\n",
    "print(list)\n",
    "r=list[1][0]=3\n",
    "print(list)"
   ]
  },
  {
   "cell_type": "code",
   "execution_count": 32,
   "id": "288bd0d7",
   "metadata": {},
   "outputs": [
    {
     "name": "stdout",
     "output_type": "stream",
     "text": [
      "[[1, 2], [5, 6], [7, 4]]\n"
     ]
    }
   ],
   "source": [
    "list=[[1,2],[7,4],[5,6]]\n",
    "list.sort()\n",
    "print(list)"
   ]
  },
  {
   "cell_type": "code",
   "execution_count": 33,
   "id": "d3004e4c",
   "metadata": {},
   "outputs": [
    {
     "name": "stdout",
     "output_type": "stream",
     "text": [
      "[[1, 2], [7, 4], [5, 6], [8, 9]]\n"
     ]
    }
   ],
   "source": [
    "list=[[1,2],[7,4],[5,6]]\n",
    "list.append([8,9])\n",
    "print(list)"
   ]
  },
  {
   "cell_type": "code",
   "execution_count": 39,
   "id": "2f5e866e",
   "metadata": {},
   "outputs": [
    {
     "name": "stdout",
     "output_type": "stream",
     "text": [
      "[1, 2, 3, 4, 5, 6]\n"
     ]
    },
    {
     "data": {
      "text/plain": [
       "[1, 2, 3, 1, 2, 3, 1, 2, 3]"
      ]
     },
     "execution_count": 39,
     "metadata": {},
     "output_type": "execute_result"
    }
   ],
   "source": [
    "# Cancatination and repeatation for list\n",
    "l1=[1,2,3]\n",
    "l2=[4,5,6]\n",
    "print(l1+l2)\n",
    "l1*3"
   ]
  },
  {
   "cell_type": "code",
   "execution_count": 40,
   "id": "4ef6710c",
   "metadata": {},
   "outputs": [
    {
     "data": {
      "text/plain": [
       "[]"
      ]
     },
     "execution_count": 40,
     "metadata": {},
     "output_type": "execute_result"
    }
   ],
   "source": [
    "l1=[1,2,3]\n",
    "l1.clear()\n",
    "l1"
   ]
  },
  {
   "cell_type": "code",
   "execution_count": 42,
   "id": "76ec7b92",
   "metadata": {},
   "outputs": [
    {
     "data": {
      "text/plain": [
       "[2, 3]"
      ]
     },
     "execution_count": 42,
     "metadata": {},
     "output_type": "execute_result"
    }
   ],
   "source": [
    "l1=[1,2,3]\n",
    "del l1[0]\n",
    "l1"
   ]
  },
  {
   "cell_type": "code",
   "execution_count": 43,
   "id": "cca4688b",
   "metadata": {},
   "outputs": [],
   "source": [
    "del l1"
   ]
  },
  {
   "cell_type": "code",
   "execution_count": 44,
   "id": "79ba65e3",
   "metadata": {},
   "outputs": [
    {
     "ename": "NameError",
     "evalue": "name 'l1' is not defined",
     "output_type": "error",
     "traceback": [
      "\u001b[1;31m---------------------------------------------------------------------------\u001b[0m",
      "\u001b[1;31mNameError\u001b[0m                                 Traceback (most recent call last)",
      "\u001b[1;32m~\\AppData\\Local\\Temp\\ipykernel_15864\\2585568370.py\u001b[0m in \u001b[0;36m<module>\u001b[1;34m\u001b[0m\n\u001b[1;32m----> 1\u001b[1;33m \u001b[0ml1\u001b[0m\u001b[1;33m\u001b[0m\u001b[1;33m\u001b[0m\u001b[0m\n\u001b[0m",
      "\u001b[1;31mNameError\u001b[0m: name 'l1' is not defined"
     ]
    }
   ],
   "source": [
    "l1"
   ]
  },
  {
   "cell_type": "code",
   "execution_count": null,
   "id": "200f59bd",
   "metadata": {},
   "outputs": [],
   "source": []
  }
 ],
 "metadata": {
  "kernelspec": {
   "display_name": "Python 3 (ipykernel)",
   "language": "python",
   "name": "python3"
  },
  "language_info": {
   "codemirror_mode": {
    "name": "ipython",
    "version": 3
   },
   "file_extension": ".py",
   "mimetype": "text/x-python",
   "name": "python",
   "nbconvert_exporter": "python",
   "pygments_lexer": "ipython3",
   "version": "3.9.13"
  }
 },
 "nbformat": 4,
 "nbformat_minor": 5
}
