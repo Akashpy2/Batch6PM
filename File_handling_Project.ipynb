{
 "cells": [
  {
   "cell_type": "raw",
   "id": "5670fbc9",
   "metadata": {},
   "source": [
    "Problem Statement\n",
    "-----------------\n",
    "Consider an organization which executes website development projects for their clients. \n",
    "Employees are employed on these projects. \n",
    "The data about Project titles, Project IDs, Employees and Employees working on \n",
    "Projects are provided in a text file. \n",
    "The first 10 entries in the given text file are Project Titles. \n",
    "Next 6 entries are the name of the employees.\n",
    "\n",
    "Project IDs are given in next 10 records and last 6 entries are strings \n",
    "of 10 characters with 0s and 1s. \n",
    "One such string defines the assignment of the project by setting 1 \n",
    "at the positional index representing a project.\n",
    "\n",
    "For example 0010010101- defines that Rita Hoggins works on  \n",
    "projects :– \n",
    "Neil Boutique(Project ID 1003), \n",
    "Creative Fingers Eating House(Project ID 3001), \n",
    "Helping Hands Grocery(Project ID  3003), \n",
    "Smirk Smile Corrector(Project ID 4002).\n"
   ]
  },
  {
   "cell_type": "raw",
   "id": "4ecbe6ca",
   "metadata": {},
   "source": [
    "The program is created by reading the text file “projects.txt” \n",
    "and creating arrays for Project Titles, Project IDs, Employee Names \n",
    "and Project and Employees mapping.\n",
    "\n",
    "File Handling Python code Features\n",
    "The program is a menu-driven application that displays the activities \n",
    "that can be performed by a user. \n",
    "A user chooses an option by entering the choice as a number.\n",
    "\n",
    "This file handling project covers the following queries:\n",
    "\n",
    "Display title of a Project Title when user enters the Project ID\n",
    "Display Project ID of a project when user enters the Project Title\n",
    "Display Employees working on a project with given Project ID\n",
    "Display the list of all Projects on which an employee is working\n",
    "Display Employees who are working on a given number of projects\n",
    "Display All Projects and their IDs\n",
    "Display all Details stored in the text file in a tabular format.\n",
    "If a user enters a wrong Project ID or Employee Name or project Name, \n",
    "the message is displayed about the wrong entry. \n",
    "The exceptions are handled using try, except statement of Python."
   ]
  },
  {
   "cell_type": "code",
   "execution_count": 2,
   "id": "fa003d71",
   "metadata": {},
   "outputs": [
    {
     "data": {
      "text/plain": [
       "'C:\\\\Users\\\\DELL\\\\Batch_Apr23_6PM'"
      ]
     },
     "execution_count": 2,
     "metadata": {},
     "output_type": "execute_result"
    }
   ],
   "source": [
    "import os\n",
    "os.getcwd()"
   ]
  },
  {
   "cell_type": "code",
   "execution_count": 5,
   "id": "8ce8b779",
   "metadata": {},
   "outputs": [
    {
     "data": {
      "text/plain": [
       "'C:\\\\Users\\\\DELL\\\\Python_codes'"
      ]
     },
     "execution_count": 5,
     "metadata": {},
     "output_type": "execute_result"
    }
   ],
   "source": [
    "os.chdir(r\"C:\\Users\\DELL\\Python_codes\")\n",
    "os.getcwd()"
   ]
  },
  {
   "cell_type": "code",
   "execution_count": 6,
   "id": "f763ad71",
   "metadata": {},
   "outputs": [
    {
     "name": "stdout",
     "output_type": "stream",
     "text": [
      "0\n",
      "1\n",
      "2\n",
      "3\n",
      "4\n",
      "5\n",
      "6\n",
      "7\n",
      "8\n",
      "9\n"
     ]
    }
   ],
   "source": [
    "fh= open(\"projects.txt\",\"r\")#open file in read mode\n",
    "\n",
    "curtext=fh.read(); # Read the file an store as string\n",
    "txtArr=curtext.split(\"\\n\")#Split string  at new line feeds\n",
    "#declare arrays\n",
    "Projects=[]\n",
    "ProjID=[]\n",
    "ProjEmp=[]\n",
    "ProjAss=[]\n",
    "txtAss=\"\"\n",
    "proj=\"\\t\"\n",
    "#fill array with projects, Project ID, Project member details\n",
    "for i in range(10):\n",
    "    Projects.append(txtArr[i])\n",
    "    print(i)\n",
    "\n"
   ]
  },
  {
   "cell_type": "code",
   "execution_count": 7,
   "id": "a1b7c745",
   "metadata": {},
   "outputs": [
    {
     "name": "stdout",
     "output_type": "stream",
     "text": [
      "10\n",
      "11\n",
      "12\n",
      "13\n",
      "14\n",
      "15\n",
      "16\n",
      "17\n",
      "18\n",
      "19\n",
      "20\n",
      "21\n",
      "22\n",
      "23\n",
      "24\n",
      "25\n",
      "26\n",
      "27\n",
      "28\n",
      "29\n",
      "30\n",
      "31\n"
     ]
    }
   ],
   "source": [
    "fh= open(\"projects.txt\",\"r\")#open file in read mode\n",
    "\n",
    "curtext=fh.read(); # Read the file an store as string\n",
    "txtArr=curtext.split(\"\\n\")#Split string  at new line feeds\n",
    "#declare arrays\n",
    "Projects=[]\n",
    "ProjID=[]\n",
    "ProjEmp=[]\n",
    "ProjAss=[]\n",
    "txtAss=\"\"\n",
    "proj=\"\\t\"\n",
    "\n",
    "for i in range(10, 16,1):\n",
    "    ProjEmp.append(txtArr[i])\n",
    "    print(i)\n",
    "for i in range(16,26,1):\n",
    "    ProjID.append(txtArr[i])\n",
    "    print(i)\n",
    "for i in range(26,32,1):\n",
    "    ProjAss.append(txtArr[i])   \n",
    "    print(i)\n"
   ]
  },
  {
   "cell_type": "code",
   "execution_count": null,
   "id": "c1d835d6",
   "metadata": {},
   "outputs": [],
   "source": [
    "ch=0\n",
    "while ch<8:\n",
    "    #create Menu and Read option entered\n",
    "    print(\"___________________________________________________________ \")\n",
    "    print(\"Menu.. \")\n",
    "    print(\"___________________________________________________________ \")\n",
    "    print(\"1. Display Project Title by Project ID\")\n",
    "    print(\"2. Display Project ID by Project Title\")\n",
    "    print(\"3. Display Employees working on a project with given ID\")\n",
    "    print(\"4. Display Projects an employee is working \")\n",
    "    print(\"5. Display Employees working on X number of projects\")\n",
    "    print(\"6. Display All Projects with IDs\")\n",
    "    print(\"7. Display all Details\")\n",
    "    print(\"8. Exit Program\")\n",
    "    ch=int(input(\"enter your choice--->\"))\n",
    "    if (ch<0 or ch>7):\n",
    "        print(\"Wrong Choice\")\n",
    "        ch=1\n",
    "        continue\n",
    "    if ch==1:\n",
    "        projID=input(\"Enter Project ID--->\")\n",
    "        try:\n",
    "            print(Projects[ProjID.index(projID)])\n",
    "        except ValueError:        \n",
    "            print(\"No such project ID exists\")\n",
    "    if ch==2:\n",
    "        projName=input(\"Enter Project Name--->\")\n",
    "        try:\n",
    "            print(ProjID[Projects.index(projName)])\n",
    "        except ValueError:        \n",
    "            print(\"No such project Name exists\")    \n",
    "    if ch==3:\n",
    "        empNames=\"\"\n",
    "        projID=input(\"Enter Project ID--->\")\n",
    "        try:\n",
    "            pind= ProjID.index(projID)\n",
    "        except ValueError:        \n",
    "            print(\"No such project ID exists\")\n",
    "            continue\n",
    "        for i in range(len(ProjEmp)):\n",
    "            pa=ProjAss[i]\n",
    "            if pa[pind]=='1':\n",
    "                empNames=empNames+(ProjEmp[i])+\",\"\n",
    "        \n",
    "        if empNames==\"\":\n",
    "            print(\"No One is Working on this project\")\n",
    "        else:    \n",
    "            print(empNames[0:len(empNames)-1])\n",
    "    if ch==4:\n",
    "        eind=\"\"\n",
    "        proNames=\"\"\n",
    "        empName=input(\"Enter Employee Name--->\")\n",
    "        try:\n",
    "            eind= ProjEmp.index(empName)\n",
    "        except ValueError:        \n",
    "            print(\"No Employee with this name exists\")\n",
    "            continue\n",
    "        for i in range(len(Projects)):\n",
    "            el=ProjAss[eind]\n",
    "            if el[i]=='1':\n",
    "                proNames=proNames+(Projects[i])+\",\"\n",
    "        if proNames==\"\":\n",
    "            print(\"No Project Assigned\")\n",
    "        else:    \n",
    "            print(proNames[0:len(proNames)-1])\n",
    "    if ch==5:\n",
    "        proNames=\"\"\n",
    "        empCnt=int(input(\"Enter count of projects--->\"))\n",
    "        cnt=0\n",
    "        for i in range(len(ProjEmp)):\n",
    "            premp=ProjAss[i]\n",
    "            cnt=0\n",
    "            for j in range(len(Projects)):\n",
    "                if premp[j]=='1':\n",
    "                    cnt=cnt+1\n",
    "            if cnt==empCnt:\n",
    "                proNames=proNames+(ProjEmp[i])+\",\"\n",
    "\n",
    "        if proNames==\"\":\n",
    "            print(\"Data Not Available\")\n",
    "        else:    \n",
    "            print(proNames[0:len(proNames)-1])\n",
    "    if ch==6:\n",
    "        #Display all project IDs in First Row and names in second row\n",
    "        for i in range(len(ProjID)):\n",
    "            print(ProjID[i]+\"\\t\"+Projects[i])\n",
    "             \n",
    "    if ch==7:\n",
    "        #Display all project IDs in First Row\n",
    "        for i in range(len(ProjID)):\n",
    "            proj=proj+ProjID[i]+\"\\t\"\n",
    "        #Display Employees and projects they are working on    \n",
    "        print(\"\\t\"+proj)\n",
    "        txtpp=\"\\t\"\n",
    "        for i in range(len(ProjEmp)):\n",
    "            txtAss=ProjAss[i]\n",
    "            txtAss=txtAss.replace(\"1\",\"Y\\t\")\n",
    "            txtAss=txtAss.replace(\"0\",\"N\\t\")\n",
    "            print(ProjEmp[i]+\"\\t\"+txtAss) \n",
    "\n"
   ]
  }
 ],
 "metadata": {
  "kernelspec": {
   "display_name": "Python 3 (ipykernel)",
   "language": "python",
   "name": "python3"
  },
  "language_info": {
   "codemirror_mode": {
    "name": "ipython",
    "version": 3
   },
   "file_extension": ".py",
   "mimetype": "text/x-python",
   "name": "python",
   "nbconvert_exporter": "python",
   "pygments_lexer": "ipython3",
   "version": "3.9.13"
  }
 },
 "nbformat": 4,
 "nbformat_minor": 5
}
