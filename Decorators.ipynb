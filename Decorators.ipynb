{
 "cells": [
  {
   "cell_type": "markdown",
   "id": "f503ac01",
   "metadata": {},
   "source": [
    "# Decorators"
   ]
  },
  {
   "cell_type": "raw",
   "id": "19d23b63",
   "metadata": {},
   "source": [
    "'''\n",
    "A decorator is a design pattern in Python that allows a user to \n",
    "add new functionality to an existing object without modifying its structure. \n",
    "Decorators are usually called before the definition of a function you want to decorate.\n",
    "\n",
    "#Parameter to add another function\n",
    "#Nested function \n",
    "#Function return function\n",
    "#Reference\n",
    "#Function as parameter\n",
    "'''"
   ]
  },
  {
   "cell_type": "code",
   "execution_count": 1,
   "id": "533d9014",
   "metadata": {},
   "outputs": [
    {
     "name": "stdout",
     "output_type": "stream",
     "text": [
      "function2 call function1\n",
      "function1\n"
     ]
    }
   ],
   "source": [
    "def funct1():\n",
    "    print(\"function1\")\n",
    "    \n",
    "def funct2(func):     #func -> reference to the function\n",
    "    print(\"function2 call function1\")\n",
    "    func()\n",
    "    \n",
    "funct2(funct1)"
   ]
  },
  {
   "cell_type": "code",
   "execution_count": 2,
   "id": "782f8a74",
   "metadata": {},
   "outputs": [
    {
     "name": "stdout",
     "output_type": "stream",
     "text": [
      "Good morning\n"
     ]
    }
   ],
   "source": [
    "def print_str():\n",
    "    return \"Good morning\"\n",
    "    \n",
    "print(print_str())"
   ]
  },
  {
   "cell_type": "code",
   "execution_count": 5,
   "id": "d9abfd59",
   "metadata": {},
   "outputs": [
    {
     "name": "stdout",
     "output_type": "stream",
     "text": [
      "GOOD MORNING\n"
     ]
    }
   ],
   "source": [
    "def str_outer(func):\n",
    "    def inner():\n",
    "        str1=func()\n",
    "        return str1.upper()\n",
    "    return inner\n",
    "\n",
    "def print_str():\n",
    "    return \"Good morning\"\n",
    "\n",
    "r=str_outer(print_str)\n",
    "print(r())"
   ]
  },
  {
   "cell_type": "code",
   "execution_count": 7,
   "id": "2b910aac",
   "metadata": {},
   "outputs": [
    {
     "name": "stdout",
     "output_type": "stream",
     "text": [
      "GOOD MORNING\n"
     ]
    }
   ],
   "source": [
    "def str_outer(func):\n",
    "    def inner():\n",
    "        str1=func()\n",
    "        return str1.upper()\n",
    "    return inner\n",
    "\n",
    "@str_outer\n",
    "def print_str():\n",
    "    return \"Good morning\"\n",
    "\n",
    "\n",
    "print(print_str())"
   ]
  },
  {
   "cell_type": "code",
   "execution_count": 10,
   "id": "75de344a",
   "metadata": {},
   "outputs": [
    {
     "name": "stdout",
     "output_type": "stream",
     "text": [
      "function2 call function1\n",
      "second function\n"
     ]
    }
   ],
   "source": [
    "def funct1(func):\n",
    "    def inner():     #func -> reference to the function\n",
    "        print(\"function2 call function1\")\n",
    "        func()\n",
    "    return inner\n",
    "\n",
    "@funct1\n",
    "def funct2():\n",
    "    print(\"second function\")\n",
    "funct2()"
   ]
  },
  {
   "cell_type": "code",
   "execution_count": 11,
   "id": "d884a20d",
   "metadata": {},
   "outputs": [
    {
     "name": "stdout",
     "output_type": "stream",
     "text": [
      "function1 call function1\n",
      "function2 call function2\n",
      "Final function\n"
     ]
    }
   ],
   "source": [
    "def funct1(func):\n",
    "    def inner():     #func -> reference to the function\n",
    "        print(\"function1 call function1\")\n",
    "        func()\n",
    "    return inner\n",
    "\n",
    "def funct2(func):\n",
    "    def inner():     #func -> reference to the function\n",
    "        print(\"function2 call function2\")\n",
    "        func()\n",
    "    return inner\n",
    "\n",
    "\n",
    "@funct1\n",
    "@funct2\n",
    "def final():\n",
    "    print(\"Final function\")\n",
    "    \n",
    "final()"
   ]
  },
  {
   "cell_type": "code",
   "execution_count": 15,
   "id": "d2b9d88d",
   "metadata": {},
   "outputs": [
    {
     "name": "stdout",
     "output_type": "stream",
     "text": [
      "***************\n",
      "%%%%%%%%%%%%%%%\n",
      "Hello\n",
      "%%%%%%%%%%%%%%%\n",
      "***************\n"
     ]
    }
   ],
   "source": [
    "def funct1(func):\n",
    "    def inner(*tech):     #func -> reference to the function\n",
    "        print(\"*\" * 15)\n",
    "        func(*tech)\n",
    "        print(\"*\" * 15)\n",
    "    return inner\n",
    "\n",
    "def funct2(func):\n",
    "    def inner(*tech):     #func -> reference to the function\n",
    "        print(\"%\" * 15)\n",
    "        func(*tech)\n",
    "        print(\"%\" * 15)\n",
    "    return inner\n",
    "\n",
    "\n",
    "@funct1\n",
    "@funct2\n",
    "def final(msg):\n",
    "    print(msg)\n",
    "    \n",
    "final(\"Hello\")"
   ]
  },
  {
   "cell_type": "code",
   "execution_count": 16,
   "id": "7a21eb62",
   "metadata": {},
   "outputs": [
    {
     "name": "stdout",
     "output_type": "stream",
     "text": [
      "%%%%%%%%%%%%%%%\n",
      "***************\n",
      "Hello\n",
      "***************\n",
      "%%%%%%%%%%%%%%%\n"
     ]
    }
   ],
   "source": [
    "@funct2\n",
    "@funct1\n",
    "def final(msg):\n",
    "    print(msg)\n",
    "    \n",
    "final(\"Hello\")"
   ]
  },
  {
   "cell_type": "code",
   "execution_count": null,
   "id": "a2a402f9",
   "metadata": {},
   "outputs": [],
   "source": []
  }
 ],
 "metadata": {
  "kernelspec": {
   "display_name": "Python 3 (ipykernel)",
   "language": "python",
   "name": "python3"
  },
  "language_info": {
   "codemirror_mode": {
    "name": "ipython",
    "version": 3
   },
   "file_extension": ".py",
   "mimetype": "text/x-python",
   "name": "python",
   "nbconvert_exporter": "python",
   "pygments_lexer": "ipython3",
   "version": "3.9.13"
  }
 },
 "nbformat": 4,
 "nbformat_minor": 5
}
