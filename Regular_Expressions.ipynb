{
 "cells": [
  {
   "cell_type": "markdown",
   "id": "65243211",
   "metadata": {},
   "source": [
    "# Regular Expressions "
   ]
  },
  {
   "cell_type": "raw",
   "id": "f2cc6cf0",
   "metadata": {},
   "source": [
    "A RegEx, or Regular Expression, is a sequence of characters that forms a search pattern. RegEx can be used to check if a string contains the specified search pattern. Built-in package re for Regular Expressions.'''\n",
    "\n",
    "'''####The re module offers a set of functions that allows us to search a string for a match: re.match(pattern, string, flags=0)\n",
    "\n",
    "pattern - This is the regular expression to be matched. \n",
    "string - This is the string, which would be searched to match the pattern at the beginning of string. \n",
    "flags - You can specify different flags using bitwise OR (|). These are modifiers, which are listed in the table below.\n",
    "\n",
    "############Functions #################\n",
    "search\t- Returns a Match object if there is a match anywhere in the string\n",
    "findall -\tReturns a list containing all matches\n",
    "split\t- Returns a list where the string has been split at each match\n",
    "sub\t- Replaces one or many matches with a string"
   ]
  },
  {
   "cell_type": "raw",
   "id": "bee98aef",
   "metadata": {},
   "source": [
    "######## Metacharacters are characters with a special meaning##############\n",
    "[]\tA set of characters\t\"[a-m]\"\t\n",
    "\\\tSignals a special sequence (can also be used to escape special characters)\t\"\\d\"\t\n",
    ".\tMatches any single character (except newline character \\n)\t\"he..o\"\t\n",
    "^\tStarts with\t\"^hello\"\t\n",
    "$\tEnds with\t\"world$\"\t\n",
    "*\tZero or more occurrences\t\"aix*\"\t\n",
    "+\tOne or more occurrences\t\"aix+\"\t\n",
    "{}\tExactly the specified number of occurrences\t\"al{2}\"\t\n",
    "|\tEither or\t\"falls|stays\"\t\n",
    "()\tCapture and group\n",
    "\n",
    "#####A special sequence is a \\ followed by one of the characters in the list below, and has a special meaning:#####\n",
    "    \n",
    "\\A\tReturns a match if the specified characters are at the beginning of the string\t\"\\AThe\"\t\n",
    "\\b\tReturns a match where the specified characters are at the beginning or at the end of a word\tr\"\\bain\"\n",
    "r\"ain\\b\"\t\n",
    "\\B\tReturns a match where the specified characters are present, but NOT at the beginning (or at the end) of a word\tr\"\\Bain\"\n",
    "r\"ain\\B\"\t\n",
    "\\d\tReturns a match where the string contains digits (numbers from 0-9)\t\"\\d\"\t\n",
    "\\D\tReturns a match where the string DOES NOT contain digits\t\"\\D\"\t\n",
    "\\s\tReturns a match where the string contains a white space character\t\"\\s\"\t\n",
    "\\S\tReturns a match where the string DOES NOT contain a white space character\t\"\\S\"\t\n",
    "\\w\tReturns a match where the string contains any word characters (characters from a to Z, digits from 0-9, and the underscore _ character)\t\"\\w\"\t\n",
    "\\W\tReturns a match where the string DOES NOT contain any word characters\t\"\\W\"\t\n",
    "\\Z\tReturns a match if the specified characters are at the end of the string\t\"Spain\\Z\"\n",
    "\n",
    "###A set is a set of characters inside a pair of square brackets [] with a special meaning:############\n",
    "[arn]\tReturns a match where one of the specified characters (a, r, or n) are present\t\n",
    "[a-n]\tReturns a match for any lower case character, alphabetically between a and n\t\n",
    "[^arn]\tReturns a match for any character EXCEPT a, r, and n\t\n",
    "[0123]\tReturns a match where any of the specified digits (0, 1, 2, or 3) are present\t\n",
    "[0-9]\tReturns a match for any digit between 0 and 9\t\n",
    "[0-5][0-9]\tReturns a match for any two-digit numbers from 00 and 59\t\n",
    "[a-zA-Z]\tReturns a match for any character alphabetically between a and z, lower case OR upper case\t\n",
    "[+]\tIn sets, +, *, ., |, (), $,{} has no special meaning, so [+] means: return a match for any + character in the string"
   ]
  },
  {
   "cell_type": "code",
   "execution_count": 1,
   "id": "712c6fe2",
   "metadata": {},
   "outputs": [],
   "source": [
    "import re"
   ]
  },
  {
   "cell_type": "code",
   "execution_count": 23,
   "id": "cd92c17f",
   "metadata": {},
   "outputs": [
    {
     "name": "stdout",
     "output_type": "stream",
     "text": [
      "None\n"
     ]
    }
   ],
   "source": [
    "txt='My first program'\n",
    "r=re.search(\"^My. *program$\",txt)\n",
    "print(r)"
   ]
  },
  {
   "cell_type": "code",
   "execution_count": 29,
   "id": "6d2c9bac",
   "metadata": {},
   "outputs": [
    {
     "name": "stdout",
     "output_type": "stream",
     "text": [
      "<re.Match object; span=(2, 3), match=' '>\n"
     ]
    }
   ],
   "source": [
    "txt='My first program'\n",
    "r=re.search(\"\\s\",txt)\n",
    "print(r)\n",
    "#print(r.start())"
   ]
  },
  {
   "cell_type": "code",
   "execution_count": 30,
   "id": "d8157c4b",
   "metadata": {},
   "outputs": [
    {
     "name": "stdout",
     "output_type": "stream",
     "text": [
      "['My']\n"
     ]
    }
   ],
   "source": [
    "txt='My first program'\n",
    "r=re.findall(\"My\",txt)\n",
    "print(r)"
   ]
  },
  {
   "cell_type": "code",
   "execution_count": 34,
   "id": "8493096f",
   "metadata": {},
   "outputs": [
    {
     "name": "stdout",
     "output_type": "stream",
     "text": [
      "['My', 'first program']\n"
     ]
    }
   ],
   "source": [
    "txt='My first program'\n",
    "r=re.split(\"\\s\",txt)\n",
    "r=re.split(\"\\s\",txt,1)\n",
    "print(r)"
   ]
  },
  {
   "cell_type": "code",
   "execution_count": 37,
   "id": "1cc2879d",
   "metadata": {},
   "outputs": [
    {
     "name": "stdout",
     "output_type": "stream",
     "text": [
      "My$first$program\n",
      "My$first program\n"
     ]
    }
   ],
   "source": [
    "txt='My first program'\n",
    "r1=re.sub(\"\\s\",\"$\",txt)\n",
    "r2=re.sub(\"\\s\",\"$\",txt,1)\n",
    "print(r1)\n",
    "print(r2)"
   ]
  },
  {
   "cell_type": "code",
   "execution_count": 38,
   "id": "20fbbd23",
   "metadata": {},
   "outputs": [
    {
     "name": "stdout",
     "output_type": "stream",
     "text": [
      "\tabc\n"
     ]
    }
   ],
   "source": [
    "a=('\\tabc')\n",
    "print(a)"
   ]
  },
  {
   "cell_type": "code",
   "execution_count": 39,
   "id": "c2413dcf",
   "metadata": {},
   "outputs": [
    {
     "name": "stdout",
     "output_type": "stream",
     "text": [
      "\\tabc\n"
     ]
    }
   ],
   "source": [
    "a=(r'\\tabc')\n",
    "print(a)"
   ]
  },
  {
   "cell_type": "code",
   "execution_count": 40,
   "id": "d19ef746",
   "metadata": {},
   "outputs": [
    {
     "name": "stdout",
     "output_type": "stream",
     "text": [
      "<re.Match object; span=(3, 5), match='lo'>\n",
      "found\n"
     ]
    }
   ],
   "source": [
    "match = re.search(r'.o', 'hello world')\n",
    "print(match)\n",
    "if (match):\n",
    "    print(\"found\")\n",
    "else:\n",
    "    print('Not found')"
   ]
  },
  {
   "cell_type": "code",
   "execution_count": 41,
   "id": "3f62e877",
   "metadata": {},
   "outputs": [
    {
     "name": "stdout",
     "output_type": "stream",
     "text": [
      "<re.Match object; span=(1, 2), match='e'>\n",
      "<re.Match object; span=(2, 3), match='a'>\n",
      "<re.Match object; span=(4, 5), match='a'>\n",
      "<re.Match object; span=(6, 7), match='i'>\n",
      "<re.Match object; span=(8, 9), match='i'>\n",
      "<re.Match object; span=(13, 14), match='o'>\n",
      "<re.Match object; span=(14, 15), match='u'>\n"
     ]
    }
   ],
   "source": [
    "#finditer() function matches a pattern in a string and returns an iterator \n",
    "#that yields the Match objects of all non-overlapping matches.\n",
    "s = 'Readability counts.'\n",
    "pattern = r'[aeoui]'\n",
    "\n",
    "matches = re.finditer(pattern, s)\n",
    "for match in matches:\n",
    "    print(match)"
   ]
  },
  {
   "cell_type": "code",
   "execution_count": 42,
   "id": "cf20633a",
   "metadata": {},
   "outputs": [
    {
     "name": "stdout",
     "output_type": "stream",
     "text": [
      "<re.Match object; span=(25, 47), match='https://www.google.com'>\n"
     ]
    }
   ],
   "source": [
    "urls='''\n",
    "https://www.chakram.com\n",
    "https://www.google.com\n",
    "https://www.youtube.com\n",
    "https://www.nasa.com\n",
    "'''\n",
    "pattern=re.compile(r'https://www.google.com')\n",
    "matches=pattern.finditer(urls)\n",
    "\n",
    "for match in matches:\n",
    "    print(match)  "
   ]
  },
  {
   "cell_type": "code",
   "execution_count": 54,
   "id": "4a251261",
   "metadata": {},
   "outputs": [
    {
     "name": "stdout",
     "output_type": "stream",
     "text": [
      "<re.Match object; span=(1, 2), match='a'>\n",
      "<re.Match object; span=(2, 3), match='b'>\n",
      "<re.Match object; span=(3, 4), match='c'>\n",
      "<re.Match object; span=(4, 5), match='d'>\n",
      "<re.Match object; span=(5, 6), match='e'>\n",
      "<re.Match object; span=(6, 7), match='f'>\n",
      "<re.Match object; span=(7, 8), match='g'>\n",
      "<re.Match object; span=(8, 9), match='h'>\n",
      "<re.Match object; span=(9, 10), match='i'>\n",
      "<re.Match object; span=(10, 11), match='j'>\n",
      "<re.Match object; span=(11, 12), match='k'>\n",
      "<re.Match object; span=(12, 13), match='l'>\n",
      "<re.Match object; span=(13, 14), match='m'>\n",
      "<re.Match object; span=(14, 15), match='n'>\n",
      "<re.Match object; span=(15, 16), match='o'>\n",
      "<re.Match object; span=(16, 17), match='p'>\n",
      "<re.Match object; span=(17, 18), match='q'>\n",
      "<re.Match object; span=(18, 19), match='r'>\n",
      "<re.Match object; span=(19, 20), match='s'>\n",
      "<re.Match object; span=(20, 21), match='t'>\n",
      "<re.Match object; span=(21, 22), match='u'>\n",
      "<re.Match object; span=(22, 23), match='v'>\n",
      "<re.Match object; span=(23, 24), match='w'>\n",
      "<re.Match object; span=(24, 25), match='x'>\n",
      "<re.Match object; span=(25, 26), match='y'>\n",
      "<re.Match object; span=(26, 27), match='z'>\n",
      "<re.Match object; span=(28, 29), match='A'>\n",
      "<re.Match object; span=(29, 30), match='B'>\n",
      "<re.Match object; span=(30, 31), match='C'>\n",
      "<re.Match object; span=(31, 32), match='D'>\n",
      "<re.Match object; span=(32, 33), match='E'>\n",
      "<re.Match object; span=(33, 34), match='F'>\n",
      "<re.Match object; span=(34, 35), match='G'>\n",
      "<re.Match object; span=(35, 36), match='H'>\n",
      "<re.Match object; span=(36, 37), match='I'>\n",
      "<re.Match object; span=(37, 38), match='J'>\n",
      "<re.Match object; span=(38, 39), match='K'>\n",
      "<re.Match object; span=(39, 40), match='L'>\n",
      "<re.Match object; span=(40, 41), match='M'>\n",
      "<re.Match object; span=(41, 42), match='N'>\n",
      "<re.Match object; span=(42, 43), match='O'>\n",
      "<re.Match object; span=(43, 44), match='P'>\n",
      "<re.Match object; span=(44, 45), match='Q'>\n",
      "<re.Match object; span=(45, 46), match='R'>\n",
      "<re.Match object; span=(46, 47), match='S'>\n",
      "<re.Match object; span=(47, 48), match='T'>\n",
      "<re.Match object; span=(48, 49), match='U'>\n",
      "<re.Match object; span=(49, 50), match='V'>\n",
      "<re.Match object; span=(50, 51), match='W'>\n",
      "<re.Match object; span=(51, 52), match='X'>\n",
      "<re.Match object; span=(52, 53), match='Y'>\n",
      "<re.Match object; span=(53, 54), match='Z'>\n",
      "<re.Match object; span=(67, 68), match='H'>\n",
      "<re.Match object; span=(68, 69), match='a'>\n",
      "<re.Match object; span=(70, 71), match='H'>\n",
      "<re.Match object; span=(71, 72), match='a'>\n",
      "<re.Match object; span=(72, 73), match='H'>\n",
      "<re.Match object; span=(73, 74), match='a'>\n",
      "<re.Match object; span=(76, 77), match='w'>\n",
      "<re.Match object; span=(77, 78), match='o'>\n",
      "<re.Match object; span=(78, 79), match='r'>\n",
      "<re.Match object; span=(79, 80), match='d'>\n",
      "<re.Match object; span=(81, 82), match='b'>\n",
      "<re.Match object; span=(82, 83), match='o'>\n",
      "<re.Match object; span=(83, 84), match='u'>\n",
      "<re.Match object; span=(84, 85), match='n'>\n",
      "<re.Match object; span=(85, 86), match='d'>\n",
      "<re.Match object; span=(86, 87), match='a'>\n",
      "<re.Match object; span=(87, 88), match='r'>\n",
      "<re.Match object; span=(88, 89), match='y'>\n",
      "<re.Match object; span=(91, 92), match='M'>\n",
      "<re.Match object; span=(92, 93), match='e'>\n",
      "<re.Match object; span=(93, 94), match='t'>\n",
      "<re.Match object; span=(94, 95), match='a'>\n",
      "<re.Match object; span=(95, 96), match='c'>\n",
      "<re.Match object; span=(96, 97), match='h'>\n",
      "<re.Match object; span=(97, 98), match='r'>\n",
      "<re.Match object; span=(98, 99), match='a'>\n",
      "<re.Match object; span=(99, 100), match='c'>\n",
      "<re.Match object; span=(100, 101), match='t'>\n",
      "<re.Match object; span=(101, 102), match='e'>\n",
      "<re.Match object; span=(102, 103), match='r'>\n",
      "<re.Match object; span=(103, 104), match='s'>\n",
      "<re.Match object; span=(134, 135), match='g'>\n",
      "<re.Match object; span=(135, 136), match='o'>\n",
      "<re.Match object; span=(136, 137), match='o'>\n",
      "<re.Match object; span=(137, 138), match='g'>\n",
      "<re.Match object; span=(138, 139), match='l'>\n",
      "<re.Match object; span=(139, 140), match='e'>\n",
      "<re.Match object; span=(141, 142), match='c'>\n",
      "<re.Match object; span=(142, 143), match='o'>\n",
      "<re.Match object; span=(143, 144), match='m'>\n",
      "<re.Match object; span=(212, 213), match='M'>\n",
      "<re.Match object; span=(213, 214), match='r'>\n",
      "<re.Match object; span=(216, 217), match='J'>\n",
      "<re.Match object; span=(217, 218), match='o'>\n",
      "<re.Match object; span=(218, 219), match='y'>\n",
      "<re.Match object; span=(220, 221), match='M'>\n",
      "<re.Match object; span=(221, 222), match='r'>\n",
      "<re.Match object; span=(223, 224), match='T'>\n",
      "<re.Match object; span=(224, 225), match='o'>\n",
      "<re.Match object; span=(225, 226), match='m'>\n",
      "<re.Match object; span=(226, 227), match='m'>\n",
      "<re.Match object; span=(227, 228), match='y'>\n",
      "<re.Match object; span=(229, 230), match='M'>\n",
      "<re.Match object; span=(230, 231), match='r'>\n",
      "<re.Match object; span=(233, 234), match='K'>\n",
      "<re.Match object; span=(234, 235), match='u'>\n",
      "<re.Match object; span=(235, 236), match='m'>\n",
      "<re.Match object; span=(236, 237), match='a'>\n",
      "<re.Match object; span=(237, 238), match='r'>\n",
      "<re.Match object; span=(239, 240), match='M'>\n",
      "<re.Match object; span=(240, 241), match='r'>\n",
      "<re.Match object; span=(243, 244), match='T'>\n",
      "<re.Match object; span=(244, 245), match='i'>\n",
      "<re.Match object; span=(245, 246), match='m'>\n"
     ]
    }
   ],
   "source": [
    "text='''\n",
    "abcdefghijklmnopqrstuvwxyz\n",
    "ABCDEFGHIJKLMNOPQRSTUVWXYZ\n",
    "1234567890\n",
    "\n",
    "Ha HaHa #word boundary\n",
    "\n",
    "Metachracters\n",
    ". ^ $ * + ? { } [ ] \\ | ( )\n",
    "\n",
    "google.com\n",
    "\n",
    "321-555-4321\n",
    "123.555.1234\n",
    "123*555*1234\n",
    "800-555-1234\n",
    "900-555-1234\n",
    "\n",
    "Mr. Joy\n",
    "Mr Tommy\n",
    "Mr. Kumar\n",
    "Mr. Tim\n",
    "'''\n",
    "\n",
    "pattern=re.compile(r'[a-z,A-Z]')\n",
    "matches=pattern.finditer(text)\n",
    "\n",
    "for match in matches:\n",
    "    print(match)  "
   ]
  },
  {
   "cell_type": "code",
   "execution_count": 59,
   "id": "2a00274e",
   "metadata": {},
   "outputs": [
    {
     "name": "stdout",
     "output_type": "stream",
     "text": [
      "<re.Match object; span=(146, 158), match='321-555-4321'>\n",
      "<re.Match object; span=(159, 171), match='123.555.1234'>\n",
      "<re.Match object; span=(185, 197), match='800-555-1234'>\n",
      "<re.Match object; span=(198, 210), match='900-555-1234'>\n"
     ]
    }
   ],
   "source": [
    "pattern=re.compile(r'\\d\\d\\d[-.]\\d\\d\\d[-.]\\d\\d\\d\\d')\n",
    "matches=pattern.finditer(text)\n",
    "\n",
    "for match in matches:\n",
    "    print(match)  "
   ]
  },
  {
   "cell_type": "code",
   "execution_count": 64,
   "id": "5ec1becd",
   "metadata": {},
   "outputs": [
    {
     "name": "stdout",
     "output_type": "stream",
     "text": [
      "<re.Match object; span=(185, 197), match='800-555-1234'>\n",
      "<re.Match object; span=(198, 210), match='900-555-1234'>\n"
     ]
    }
   ],
   "source": [
    "pattern=re.compile(r'[89]00[-.]\\d\\d\\d[-.]\\d\\d\\d\\d')\n",
    "matches=pattern.finditer(text)\n",
    "\n",
    "for match in matches:\n",
    "    print(match) "
   ]
  },
  {
   "cell_type": "code",
   "execution_count": 66,
   "id": "bbabcd80",
   "metadata": {},
   "outputs": [
    {
     "name": "stdout",
     "output_type": "stream",
     "text": [
      "<re.Match object; span=(212, 215), match='Mr.'>\n",
      "<re.Match object; span=(229, 232), match='Mr.'>\n",
      "<re.Match object; span=(239, 242), match='Mr.'>\n"
     ]
    }
   ],
   "source": [
    "pattern=re.compile(r'Mr\\.')\n",
    "matches=pattern.finditer(text)\n",
    "\n",
    "for match in matches:\n",
    "    print(match) "
   ]
  },
  {
   "cell_type": "code",
   "execution_count": null,
   "id": "a20005a1",
   "metadata": {},
   "outputs": [],
   "source": []
  }
 ],
 "metadata": {
  "kernelspec": {
   "display_name": "Python 3 (ipykernel)",
   "language": "python",
   "name": "python3"
  },
  "language_info": {
   "codemirror_mode": {
    "name": "ipython",
    "version": 3
   },
   "file_extension": ".py",
   "mimetype": "text/x-python",
   "name": "python",
   "nbconvert_exporter": "python",
   "pygments_lexer": "ipython3",
   "version": "3.9.13"
  }
 },
 "nbformat": 4,
 "nbformat_minor": 5
}
