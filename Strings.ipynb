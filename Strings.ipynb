{
 "cells": [
  {
   "cell_type": "markdown",
   "id": "d32f8cca",
   "metadata": {},
   "source": [
    "# Strings"
   ]
  },
  {
   "cell_type": "markdown",
   "id": "e17334cc",
   "metadata": {},
   "source": [
    "Created by simply enclosing characters in either single- or double-quotes. \n",
    "It’s enough to simply assign the string to a variable. \n",
    "\n",
    "Python supports a number of escape sequences such as '\\t', '\\n','\\b' etc. \n",
    "Placing ‘r’ before a string will yield its raw value. \n",
    "There is a string formatting operator ‘%’ \n",
    "Two string literals beside one another are automatically concatenated together.\n",
    "\n",
    "Strings can have numbers and characters inside the quotations."
   ]
  },
  {
   "cell_type": "code",
   "execution_count": 2,
   "id": "3c127a70",
   "metadata": {},
   "outputs": [
    {
     "data": {
      "text/plain": [
       "str"
      ]
     },
     "execution_count": 2,
     "metadata": {},
     "output_type": "execute_result"
    }
   ],
   "source": [
    "s='10abc'\n",
    "type(s)"
   ]
  },
  {
   "cell_type": "code",
   "execution_count": null,
   "id": "6709ec60",
   "metadata": {},
   "outputs": [],
   "source": [
    "H Y D E R A B A D\n",
    "0 1 2 3 4 5 6 7 8\n",
    "             -2-1"
   ]
  },
  {
   "cell_type": "code",
   "execution_count": 10,
   "id": "8c02d6c1",
   "metadata": {},
   "outputs": [
    {
     "name": "stdout",
     "output_type": "stream",
     "text": [
      "h\n",
      "der\n",
      "hyderabad\n",
      "d\n",
      "ba\n"
     ]
    },
    {
     "ename": "TypeError",
     "evalue": "'str' object does not support item assignment",
     "output_type": "error",
     "traceback": [
      "\u001b[1;31m---------------------------------------------------------------------------\u001b[0m",
      "\u001b[1;31mTypeError\u001b[0m                                 Traceback (most recent call last)",
      "\u001b[1;32m~\\AppData\\Local\\Temp\\ipykernel_14836\\3211771357.py\u001b[0m in \u001b[0;36m<module>\u001b[1;34m\u001b[0m\n\u001b[0;32m     10\u001b[0m \u001b[0mr\u001b[0m\u001b[1;33m=\u001b[0m\u001b[0ms\u001b[0m\u001b[1;33m[\u001b[0m\u001b[1;33m-\u001b[0m\u001b[1;36m3\u001b[0m\u001b[1;33m:\u001b[0m\u001b[1;33m-\u001b[0m\u001b[1;36m1\u001b[0m\u001b[1;33m]\u001b[0m\u001b[1;33m\u001b[0m\u001b[1;33m\u001b[0m\u001b[0m\n\u001b[0;32m     11\u001b[0m \u001b[0mprint\u001b[0m\u001b[1;33m(\u001b[0m\u001b[0mr\u001b[0m\u001b[1;33m)\u001b[0m\u001b[1;33m\u001b[0m\u001b[1;33m\u001b[0m\u001b[0m\n\u001b[1;32m---> 12\u001b[1;33m \u001b[0mr\u001b[0m\u001b[1;33m=\u001b[0m\u001b[0ms\u001b[0m\u001b[1;33m[\u001b[0m\u001b[1;36m3\u001b[0m\u001b[1;33m]\u001b[0m\u001b[1;33m=\u001b[0m\u001b[1;34m'z'\u001b[0m\u001b[1;33m\u001b[0m\u001b[1;33m\u001b[0m\u001b[0m\n\u001b[0m\u001b[0;32m     13\u001b[0m \u001b[0mprint\u001b[0m\u001b[1;33m(\u001b[0m\u001b[0mr\u001b[0m\u001b[1;33m)\u001b[0m\u001b[1;33m\u001b[0m\u001b[1;33m\u001b[0m\u001b[0m\n",
      "\u001b[1;31mTypeError\u001b[0m: 'str' object does not support item assignment"
     ]
    }
   ],
   "source": [
    "s='hyderabad'\n",
    "r=s[0]\n",
    "print(r)\n",
    "r=s[2:5]\n",
    "print(r)\n",
    "r=s[0:]\n",
    "print(r)\n",
    "r=s[-1]\n",
    "print(r)\n",
    "r=s[-3:-1]\n",
    "print(r)\n",
    "r=s[3]='z'\n",
    "print(r)"
   ]
  },
  {
   "cell_type": "code",
   "execution_count": 51,
   "id": "330cbaac",
   "metadata": {},
   "outputs": [
    {
     "name": "stdout",
     "output_type": "stream",
     "text": [
      "9\n",
      "HYDERABAD\n",
      "hyderabad\n",
      "Hyderabad\n",
      "2\n",
      "1\n",
      "0\n",
      "5\n",
      "-1\n",
      "000000hyderabad\n",
      "0000  hyderabad\n",
      "@@@@  hyderabad@@@@@\n",
      "hyderabad\n",
      "hyderabad  \n",
      "True\n"
     ]
    }
   ],
   "source": [
    "s='hyderabad'\n",
    "r=len(s)\n",
    "print(r)\n",
    "r=s.upper()\n",
    "print(r)\n",
    "r=s.lower()\n",
    "print(r)\n",
    "r=s.capitalize()\n",
    "print(r)\n",
    "r=s.count('a')\n",
    "print(r)\n",
    "r=s.count('a',2,6)\n",
    "print(r)\n",
    "r=s.count('a',2,4)\n",
    "print(r)\n",
    "r=s.find('a')\n",
    "print(r)\n",
    "r=s.find('k')\n",
    "print(r)\n",
    "s='hyderabad'\n",
    "r=s.zfill(15)\n",
    "print(r)\n",
    "s='  hyderabad'\n",
    "r=s.zfill(15)\n",
    "print(r)\n",
    "a=s.center(20,'@')\n",
    "print(a)\n",
    "s='  hyderabad  '\n",
    "r=s.strip()\n",
    "print(r)\n",
    "s='  hyderabad  '\n",
    "r=s.lstrip()\n",
    "print(r)\n",
    "s='12'\n",
    "s1=s.isdigit()#returns True\n",
    "print(s1)"
   ]
  },
  {
   "cell_type": "code",
   "execution_count": 29,
   "id": "5ec56227",
   "metadata": {},
   "outputs": [
    {
     "name": "stdout",
     "output_type": "stream",
     "text": [
      "ramkumar\n",
      "ram kumar\n",
      "ramram\n"
     ]
    }
   ],
   "source": [
    "fn='ram'\n",
    "ln='kumar'\n",
    "r=fn+ln\n",
    "print(r)\n",
    "r=fn+' '+ln\n",
    "print(r)\n",
    "r=fn*2\n",
    "print(r)"
   ]
  },
  {
   "cell_type": "code",
   "execution_count": 31,
   "id": "adc92586",
   "metadata": {},
   "outputs": [
    {
     "name": "stdout",
     "output_type": "stream",
     "text": [
      "hello\t how\b r \n",
      "u\n"
     ]
    }
   ],
   "source": [
    "#\\t - tab space  \\b -backspace , \\n go to next line\n",
    "str='hello\\t how\\b r \\nu'\n",
    "print(str)"
   ]
  },
  {
   "cell_type": "code",
   "execution_count": 1,
   "id": "bd2a30aa",
   "metadata": {},
   "outputs": [
    {
     "name": "stdout",
     "output_type": "stream",
     "text": [
      "hello\t\t how\b\b r \n",
      "\n",
      "u\n"
     ]
    }
   ],
   "source": [
    "str='hello\\t\\t how\\b\\b r \\n\\nu'\n",
    "print(str)"
   ]
  },
  {
   "cell_type": "code",
   "execution_count": null,
   "id": "870992a7",
   "metadata": {},
   "outputs": [],
   "source": []
  }
 ],
 "metadata": {
  "kernelspec": {
   "display_name": "Python 3 (ipykernel)",
   "language": "python",
   "name": "python3"
  },
  "language_info": {
   "codemirror_mode": {
    "name": "ipython",
    "version": 3
   },
   "file_extension": ".py",
   "mimetype": "text/x-python",
   "name": "python",
   "nbconvert_exporter": "python",
   "pygments_lexer": "ipython3",
   "version": "3.9.13"
  }
 },
 "nbformat": 4,
 "nbformat_minor": 5
}
