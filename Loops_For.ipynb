{
 "cells": [
  {
   "cell_type": "markdown",
   "id": "dfcc05ab",
   "metadata": {},
   "source": [
    "#Loops "
   ]
  },
  {
   "cell_type": "raw",
   "id": "1b3c059b",
   "metadata": {},
   "source": [
    "For loop\n",
    "------------\n",
    "For loops essentially perform the same task as while loops, they tend to focus \n",
    "on iterating a set number of times. For loops are great when you want to go \n",
    "through a list and look at every single element.\n",
    "\n",
    "A for loop is used for iterating over a sequence (that is either a list, a tuple, a dictionary, a set, or a string).\n",
    "\n",
    "This is less like the for keyword in other programming languages, and works more \n",
    "like an iterator method as found in other object-orientated programming languages.\n",
    "\n",
    "With the for loop we can execute a set of statements, once for each item in a list, \n",
    "tuple, set etc. \n"
   ]
  },
  {
   "cell_type": "code",
   "execution_count": 1,
   "id": "c27c3200",
   "metadata": {},
   "outputs": [
    {
     "name": "stdout",
     "output_type": "stream",
     "text": [
      "0\n",
      "1\n",
      "2\n",
      "3\n",
      "4\n",
      "5\n",
      "6\n",
      "7\n",
      "8\n",
      "9\n"
     ]
    }
   ],
   "source": [
    "for i in range(10):\n",
    "    print(i)"
   ]
  },
  {
   "cell_type": "code",
   "execution_count": 2,
   "id": "78c5ad30",
   "metadata": {},
   "outputs": [
    {
     "name": "stdout",
     "output_type": "stream",
     "text": [
      "1\n",
      "2\n",
      "3\n",
      "4\n",
      "5\n",
      "6\n",
      "7\n",
      "8\n",
      "9\n"
     ]
    }
   ],
   "source": [
    "for i in range(1,10):\n",
    "    print(i)"
   ]
  },
  {
   "cell_type": "code",
   "execution_count": 3,
   "id": "15da3198",
   "metadata": {},
   "outputs": [
    {
     "name": "stdout",
     "output_type": "stream",
     "text": [
      "1\n",
      "3\n",
      "5\n",
      "7\n",
      "9\n"
     ]
    }
   ],
   "source": [
    "for i in range(1,10,2):\n",
    "    print(i)"
   ]
  },
  {
   "cell_type": "code",
   "execution_count": 64,
   "id": "5dafa048",
   "metadata": {},
   "outputs": [
    {
     "name": "stdout",
     "output_type": "stream",
     "text": [
      "0\n",
      "1\n",
      "2\n",
      "3\n",
      "[0, 1, 2, 3]\n"
     ]
    }
   ],
   "source": [
    "for i in range(4):\n",
    "    print(i)\n",
    "\n",
    "r = list(range(4))\n",
    "print(r)"
   ]
  },
  {
   "cell_type": "code",
   "execution_count": 4,
   "id": "7afd6c93",
   "metadata": {},
   "outputs": [
    {
     "name": "stdout",
     "output_type": "stream",
     "text": [
      "1\n",
      "2\n",
      "3\n",
      "4\n"
     ]
    }
   ],
   "source": [
    "l=[1,2,3,4]\n",
    "for i in l:\n",
    "    print(i)"
   ]
  },
  {
   "cell_type": "code",
   "execution_count": 58,
   "id": "c8a7abde",
   "metadata": {},
   "outputs": [
    {
     "name": "stdout",
     "output_type": "stream",
     "text": [
      "a\n",
      "b\n",
      "c\n"
     ]
    }
   ],
   "source": [
    "l=['a','b','c']\n",
    "for i in l:\n",
    "    print(i)"
   ]
  },
  {
   "cell_type": "code",
   "execution_count": 68,
   "id": "cfc604b4",
   "metadata": {},
   "outputs": [
    {
     "name": "stdout",
     "output_type": "stream",
     "text": [
      "0\n",
      "1\n",
      "2\n"
     ]
    }
   ],
   "source": [
    "l=['a','b','c']\n",
    "for i in range(len(l)):\n",
    "    print(i)"
   ]
  },
  {
   "cell_type": "code",
   "execution_count": 24,
   "id": "b646e50e",
   "metadata": {},
   "outputs": [
    {
     "name": "stdout",
     "output_type": "stream",
     "text": [
      "1\n",
      "2\n",
      "6\n",
      "24\n"
     ]
    }
   ],
   "source": [
    "l=[1,2,3,4]\n",
    "s=1\n",
    "for i in l:\n",
    "    s=s*i\n",
    "    print(s)"
   ]
  },
  {
   "cell_type": "code",
   "execution_count": 25,
   "id": "74977e03",
   "metadata": {},
   "outputs": [
    {
     "name": "stdout",
     "output_type": "stream",
     "text": [
      "24\n"
     ]
    }
   ],
   "source": [
    "l=[1,2,3,4]\n",
    "s=1\n",
    "for i in l:\n",
    "    s=s*i\n",
    "print(s)"
   ]
  },
  {
   "cell_type": "code",
   "execution_count": 26,
   "id": "22d76617",
   "metadata": {},
   "outputs": [
    {
     "name": "stdout",
     "output_type": "stream",
     "text": [
      "enter student name: raghu\n",
      "enter student num: 4\n"
     ]
    }
   ],
   "source": [
    "name = input('enter student name: ')\n",
    "age = int(input('enter student num: '))"
   ]
  },
  {
   "cell_type": "code",
   "execution_count": 27,
   "id": "d2a468fd",
   "metadata": {},
   "outputs": [
    {
     "name": "stdout",
     "output_type": "stream",
     "text": [
      "1\n",
      "3\n",
      "5\n",
      "7\n"
     ]
    }
   ],
   "source": [
    "l=[1,2,3,4,5,6,7]\n",
    "for i in l:\n",
    "    if(i%2)!=0:\n",
    "        print(i)"
   ]
  },
  {
   "cell_type": "code",
   "execution_count": 28,
   "id": "c2374d47",
   "metadata": {},
   "outputs": [
    {
     "name": "stdout",
     "output_type": "stream",
     "text": [
      "2\n",
      "4\n",
      "6\n"
     ]
    }
   ],
   "source": [
    "l=[1,2,3,4,5,6,7]\n",
    "for i in l:\n",
    "    if(i%2)==0:\n",
    "        print(i)"
   ]
  },
  {
   "cell_type": "code",
   "execution_count": null,
   "id": "c9d48a3e",
   "metadata": {},
   "outputs": [],
   "source": [
    "l=[1,2,3,4,5,6,7]\n",
    "for i in l:\n",
    "    if(i%2)!=0:\n",
    "        print(\"Even\",i)\n",
    "    else:\n",
    "        print(\"Odd\",i)"
   ]
  },
  {
   "cell_type": "code",
   "execution_count": 42,
   "id": "89c4b243",
   "metadata": {},
   "outputs": [],
   "source": [
    "for i in range(10):\n",
    "      pass"
   ]
  },
  {
   "cell_type": "code",
   "execution_count": 37,
   "id": "46940527",
   "metadata": {},
   "outputs": [
    {
     "name": "stdout",
     "output_type": "stream",
     "text": [
      "0\n",
      "1\n",
      "2\n",
      "4\n",
      "5\n",
      "6\n",
      "7\n",
      "8\n",
      "9\n"
     ]
    }
   ],
   "source": [
    "#l=[1,2,3,4,5,6,7]\n",
    "for i in range(10):\n",
    "    if(i==3):\n",
    "        continue\n",
    "    print(i)"
   ]
  },
  {
   "cell_type": "code",
   "execution_count": 40,
   "id": "bc0a1d07",
   "metadata": {},
   "outputs": [
    {
     "name": "stdout",
     "output_type": "stream",
     "text": [
      "Tickets Finished 1\n",
      "Tickets Finished 2\n",
      "Tickets Finished 3\n",
      "Tickets Finished 4\n",
      "Tickets Finished 5\n",
      "Tickets Finished 6\n",
      "Tickets Finished 7\n"
     ]
    }
   ],
   "source": [
    "for i in range(1,10):\n",
    "    if(i==8):\n",
    "        break\n",
    "    print(\"Tickets Finished\", i)"
   ]
  },
  {
   "cell_type": "code",
   "execution_count": 52,
   "id": "e94b7012",
   "metadata": {},
   "outputs": [
    {
     "name": "stdout",
     "output_type": "stream",
     "text": [
      "1\n",
      "2\n",
      "3\n",
      "Tickets Housefull\n"
     ]
    }
   ],
   "source": [
    "numbers = [1,2,3,40,50]\n",
    "c=5\n",
    "for i in numbers:\n",
    "    if(i>c):\n",
    "        print(\"Tickets Housefull\")\n",
    "        break\n",
    "    print(i)"
   ]
  },
  {
   "cell_type": "code",
   "execution_count": 1,
   "id": "d5f58654",
   "metadata": {},
   "outputs": [
    {
     "name": "stdout",
     "output_type": "stream",
     "text": [
      "How many tickets you want:6\n",
      "1\n",
      "2\n",
      "3\n",
      "4\n",
      "5\n",
      "Tickets Housefull\n"
     ]
    }
   ],
   "source": [
    "x=int(input(\"How many tickets you want:\"))  \n",
    "\n",
    "c=5\n",
    "for i in range(1,10):\n",
    "    if(i>c):\n",
    "        print(\"Tickets Housefull\")\n",
    "        break\n",
    "    print(i)"
   ]
  },
  {
   "cell_type": "code",
   "execution_count": 4,
   "id": "c52a660f",
   "metadata": {},
   "outputs": [
    {
     "name": "stdout",
     "output_type": "stream",
     "text": [
      "Enter a country: 1\n",
      "Enter a country: 2\n",
      "Enter a country: 3\n",
      "['1', '2', '3']\n"
     ]
    }
   ],
   "source": [
    "#I used an underscore for the variable name because we don't need to access it.\n",
    "my_list = []\n",
    "\n",
    "for _ in range(3):\n",
    "    my_list.append(input('Enter a country: '))\n",
    "\n",
    "print(my_list)"
   ]
  },
  {
   "cell_type": "code",
   "execution_count": 3,
   "id": "d4389bf8",
   "metadata": {},
   "outputs": [
    {
     "name": "stdout",
     "output_type": "stream",
     "text": [
      "Enter a number: 1\n",
      "Enter a number: 3\n",
      "Enter a number: 5\n",
      "[1, 3, 5]\n"
     ]
    }
   ],
   "source": [
    "my_list = []\n",
    "\n",
    "for _ in range(3):\n",
    "    try:\n",
    "        my_list.append(int(input('Enter a number: ')))\n",
    "    except ValueError:\n",
    "        print('The provided value is not an integer')\n",
    "\n",
    "print(my_list)"
   ]
  },
  {
   "cell_type": "code",
   "execution_count": 70,
   "id": "6e10d8c1",
   "metadata": {},
   "outputs": [
    {
     "name": "stdout",
     "output_type": "stream",
     "text": [
      "Pleas input number 1 5\n",
      "Pleas input number 2 5\n",
      "Pleas input number 3 5\n",
      "the media is 5.0 and the Sum is 15.0\n"
     ]
    }
   ],
   "source": [
    "#import sys;\n",
    "sums=0.0;\n",
    "k=3;\n",
    "for w in range(k):\n",
    "    sums = sums + float(input(\"Pleas input number \" + str(w+1) + \" \"));  #try using without float\n",
    "print(\"the media is \" + str(sums/k) + \" and the Sum is \" + str(sums));"
   ]
  },
  {
   "cell_type": "code",
   "execution_count": null,
   "id": "de4b4513",
   "metadata": {},
   "outputs": [],
   "source": [
    "sums=0.0\n",
    "k=3\n",
    "for w in range(k):\n",
    "    try:\n",
    "        sums = sums + float(input(\"Pleas input number \" + str(w+1) + \" \"))\n",
    "    except ValueError:\n",
    "        print(\"Invalid Input\")\n",
    "print(\"the media is \" + str(sums/k) + \" and the Sum is \" + str(sums))"
   ]
  },
  {
   "cell_type": "code",
   "execution_count": 71,
   "id": "3e3b69b1",
   "metadata": {},
   "outputs": [
    {
     "name": "stdout",
     "output_type": "stream",
     "text": [
      "Pleas input number 1 r\n",
      "That was not a number\n",
      "Pleas input number 1 1\n",
      "Pleas input number 2 f\n",
      "That was not a number\n",
      "Pleas input number 2 5\n",
      "Pleas input number 3 6\n",
      "the media is 4.0 and the Sum is 12.0\n"
     ]
    }
   ],
   "source": [
    "import sys\n",
    "sums=0.0\n",
    "k=3\n",
    "for w in range(k):\n",
    "    while True:\n",
    "        try:\n",
    "            sums += float(input(\"Pleas input number \" + str(w+1) + \" \"))\n",
    "            break\n",
    "        except ValueError:\n",
    "            print(\"That was not a number\")\n",
    "print(\"the media is \" + str(sums/k) + \" and the Sum is \" + str(sums))"
   ]
  },
  {
   "cell_type": "code",
   "execution_count": null,
   "id": "d8bb8321",
   "metadata": {},
   "outputs": [],
   "source": []
  }
 ],
 "metadata": {
  "kernelspec": {
   "display_name": "Python 3 (ipykernel)",
   "language": "python",
   "name": "python3"
  },
  "language_info": {
   "codemirror_mode": {
    "name": "ipython",
    "version": 3
   },
   "file_extension": ".py",
   "mimetype": "text/x-python",
   "name": "python",
   "nbconvert_exporter": "python",
   "pygments_lexer": "ipython3",
   "version": "3.9.13"
  }
 },
 "nbformat": 4,
 "nbformat_minor": 5
}
