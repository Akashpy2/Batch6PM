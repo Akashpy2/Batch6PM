{
 "cells": [
  {
   "cell_type": "markdown",
   "id": "5c2cc1f5",
   "metadata": {},
   "source": [
    "# Generators"
   ]
  },
  {
   "cell_type": "raw",
   "id": "6d5cdcb8",
   "metadata": {},
   "source": [
    "'''\n",
    "A Python generator is a function which returns a generator iterator \n",
    "(just an object we can iterate over) by calling yield . yield may be called with a value, \n",
    "in which case that value is treated as the \"generated\" value.\n",
    "\n",
    "Single value Iter or one by one value and we need to define func like iter n next,\n",
    "If list of values then genertors \n",
    "Genertors gives u itertors\n",
    "\n",
    "\n",
    "Differences between Generator function and Normal function\n",
    "Here is how a generator function differs from a normal function.\n",
    "\n",
    "Generator function contains one or more yield statements.\n",
    "When called, it returns an object (iterator) but does not start execution immediately.\n",
    "Methods like __iter__() and __next__() are implemented automatically. So we can iterate through the items using next().\n",
    "Once the function yields, the function is paused and the control is transferred to the caller.\n",
    "Local variables and their states are remembered between successive calls.\n",
    "Finally, when the function terminates, StopIteration is raised automatically on further calls.\n",
    "\n",
    "#In Real time\n",
    "If you want to Fetch 2000 records then all the records will be loaded in memory. \n",
    "we do not want that we want to work one value at a time. In that case we can use generator with the help of yield.\n",
    "'''"
   ]
  },
  {
   "cell_type": "code",
   "execution_count": 1,
   "id": "a2ae4834",
   "metadata": {},
   "outputs": [
    {
     "name": "stdout",
     "output_type": "stream",
     "text": [
      "<generator object gen1 at 0x0000025633C4AD60>\n"
     ]
    }
   ],
   "source": [
    "def gen1():\n",
    "    yield 3\n",
    "r=gen1()\n",
    "print(r)"
   ]
  },
  {
   "cell_type": "code",
   "execution_count": 2,
   "id": "889bb3ee",
   "metadata": {},
   "outputs": [
    {
     "name": "stdout",
     "output_type": "stream",
     "text": [
      "3\n"
     ]
    }
   ],
   "source": [
    "def gen1():\n",
    "    return 3\n",
    "r=gen1()\n",
    "print(r)"
   ]
  },
  {
   "cell_type": "code",
   "execution_count": 3,
   "id": "b6ada9b7",
   "metadata": {},
   "outputs": [
    {
     "name": "stdout",
     "output_type": "stream",
     "text": [
      "3\n"
     ]
    }
   ],
   "source": [
    "def gen1():\n",
    "    yield 3\n",
    "r=gen1()\n",
    "print(next(r))"
   ]
  },
  {
   "cell_type": "code",
   "execution_count": 5,
   "id": "97d2cb20",
   "metadata": {},
   "outputs": [
    {
     "name": "stdout",
     "output_type": "stream",
     "text": [
      "3\n",
      "4\n"
     ]
    }
   ],
   "source": [
    "def gen1():\n",
    "    yield 3\n",
    "    yield 4\n",
    "r=gen1()\n",
    "print(next(r))\n",
    "print(next(r))"
   ]
  },
  {
   "cell_type": "code",
   "execution_count": 6,
   "id": "67898003",
   "metadata": {},
   "outputs": [
    {
     "name": "stdout",
     "output_type": "stream",
     "text": [
      "3\n",
      "4\n"
     ]
    }
   ],
   "source": [
    "def gen1():\n",
    "    yield 3\n",
    "    yield 4\n",
    "r=gen1()\n",
    "for i in r:\n",
    "    print(i)"
   ]
  },
  {
   "cell_type": "code",
   "execution_count": 9,
   "id": "43b5b21e",
   "metadata": {},
   "outputs": [
    {
     "name": "stdout",
     "output_type": "stream",
     "text": [
      "1\n",
      "4\n",
      "9\n"
     ]
    }
   ],
   "source": [
    "def gen1():\n",
    "    n=1\n",
    "    while n<10:\n",
    "        sq=n*n\n",
    "        yield sq\n",
    "        n+=1\n",
    "r=gen1()\n",
    "print(next(r))\n",
    "print(next(r))\n",
    "print(next(r))"
   ]
  },
  {
   "cell_type": "code",
   "execution_count": null,
   "id": "021de951",
   "metadata": {},
   "outputs": [],
   "source": []
  }
 ],
 "metadata": {
  "kernelspec": {
   "display_name": "Python 3 (ipykernel)",
   "language": "python",
   "name": "python3"
  },
  "language_info": {
   "codemirror_mode": {
    "name": "ipython",
    "version": 3
   },
   "file_extension": ".py",
   "mimetype": "text/x-python",
   "name": "python",
   "nbconvert_exporter": "python",
   "pygments_lexer": "ipython3",
   "version": "3.9.13"
  }
 },
 "nbformat": 4,
 "nbformat_minor": 5
}
